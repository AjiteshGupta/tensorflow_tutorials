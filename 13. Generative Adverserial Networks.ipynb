{
  "nbformat": 4,
  "nbformat_minor": 0,
  "metadata": {
    "colab": {
      "name": "Generative Adverserial Networks.ipynb",
      "version": "0.3.2",
      "views": {},
      "default_view": {},
      "provenance": []
    },
    "kernelspec": {
      "name": "python3",
      "display_name": "Python 3"
    },
    "accelerator": "GPU"
  },
  "cells": [
    {
      "metadata": {
        "id": "o7tBG-FmHnOG",
        "colab_type": "code",
        "colab": {
          "autoexec": {
            "startup": false,
            "wait_interval": 0
          }
        }
      },
      "cell_type": "code",
      "source": [
        "import tensorflow as tf\n",
        "import matplotlib.pyplot as plt\n",
        "import numpy as np\n",
        "%matplotlib inline\n",
        "\n",
        "from tensorflow.examples.tutorials.mnist import input_data"
      ],
      "execution_count": 0,
      "outputs": []
    },
    {
      "metadata": {
        "id": "f7faCe1YHtXg",
        "colab_type": "code",
        "colab": {
          "autoexec": {
            "startup": false,
            "wait_interval": 0
          },
          "output_extras": [
            {
              "item_id": 2
            }
          ],
          "base_uri": "https://localhost:8080/",
          "height": 86
        },
        "outputId": "3a707096-ca6f-444d-eeac-7f98e33ac101",
        "executionInfo": {
          "status": "ok",
          "timestamp": 1521651096701,
          "user_tz": -330,
          "elapsed": 1477,
          "user": {
            "displayName": "Mayur Kulkarni",
            "photoUrl": "https://lh3.googleusercontent.com/a/default-user=s128",
            "userId": "116301151646646358552"
          }
        }
      },
      "cell_type": "code",
      "source": [
        "mnist = input_data.read_data_sets(\".\", one_hot=True)"
      ],
      "execution_count": 2,
      "outputs": [
        {
          "output_type": "stream",
          "text": [
            "Extracting ./train-images-idx3-ubyte.gz\n",
            "Extracting ./train-labels-idx1-ubyte.gz\n",
            "Extracting ./t10k-images-idx3-ubyte.gz\n",
            "Extracting ./t10k-labels-idx1-ubyte.gz\n"
          ],
          "name": "stdout"
        }
      ]
    },
    {
      "metadata": {
        "id": "42pK6mhjIXgH",
        "colab_type": "code",
        "colab": {
          "autoexec": {
            "startup": false,
            "wait_interval": 0
          },
          "output_extras": [
            {
              "item_id": 1
            },
            {
              "item_id": 2
            }
          ],
          "base_uri": "https://localhost:8080/",
          "height": 282
        },
        "outputId": "20fe8e0a-75bb-477c-e850-d27cdc4cc509",
        "executionInfo": {
          "status": "ok",
          "timestamp": 1521651098197,
          "user_tz": -330,
          "elapsed": 1071,
          "user": {
            "displayName": "Mayur Kulkarni",
            "photoUrl": "https://lh3.googleusercontent.com/a/default-user=s128",
            "userId": "116301151646646358552"
          }
        }
      },
      "cell_type": "code",
      "source": [
        "plt.figure().gca().grid(False)\n",
        "plt.imshow(mnist.train.images[12].reshape(28, 28), cmap=\"Greys\")"
      ],
      "execution_count": 3,
      "outputs": [
        {
          "output_type": "execute_result",
          "data": {
            "text/plain": [
              "<matplotlib.image.AxesImage at 0x7f9e515dabe0>"
            ]
          },
          "metadata": {
            "tags": []
          },
          "execution_count": 3
        },
        {
          "output_type": "display_data",
          "data": {
            "image/png": "[encoded data removed]",
            "text/plain": [
              "<matplotlib.figure.Figure at 0x7f9e51301c88>"
            ]
          },
          "metadata": {
            "tags": []
          }
        }
      ]
    },
    {
      "metadata": {
        "id": "ZZ8XEIiKIckH",
        "colab_type": "code",
        "colab": {
          "autoexec": {
            "startup": false,
            "wait_interval": 0
          }
        }
      },
      "cell_type": "code",
      "source": [
        "def discriminator(images, reuse=False):\n",
        "    if reuse:\n",
        "        tf.get_variable_scope().resuse_variables()\n",
        "\n",
        "    ####################### Convolutional Layer 1 ##############################\n",
        "    d_w1 = tf.get_variable(\"d_w1\", [5, 5, 1, 32],\n",
        "                           initializer=\n",
        "                           tf.truncated_normal_initializer(stddev=0.02))\n",
        "    d_b1 = tf.get_variable(\"d_b1\", [32],\n",
        "                           initializer=tf.constant_initializer(0))\n",
        "    d1 = tf.nn.conv2d(input=images, filter=d_w1, strides=[1, 1, 1, 1],\n",
        "                      padding=\"SAME\")\n",
        "    d1 = d1 + d_b1\n",
        "    d1 = tf.nn.relu(d1)\n",
        "    d1 = tf.nn.avg_pool(d1, ksize=[1, 2, 2, 1], strides=[1, 2, 2, 1],\n",
        "                        padding=\"SAME\")\n",
        "\n",
        "    ####################### Convolutional Layer 1 ##############################\n",
        "    d_w2 = tf.get_variable(\"d_w2\", [5, 5, 32, 64],\n",
        "                           initializer=\n",
        "                           tf.truncated_normal_initializer(stddev=0.02))\n",
        "    d_b2 = tf.get_variable(\"d_b2\", [32],\n",
        "                           initializer=tf.constant_initializer(0))\n",
        "    d2 = tf.nn.conv2d(input=images, filter=d_w2, strides=[1, 1, 1, 1],\n",
        "                      padding=\"SAME\")\n",
        "    d2 = d2 + d_b2\n",
        "    d2 = tf.nn.relu(d2)\n",
        "    d2 = tf.nn.avg_pool(d1, ksize=[1, 2, 2, 1], strides=[1, 2, 2, 1],\n",
        "                        padding=\"SAME\")\n",
        "    ########################### Dense Layer 1 ##################################\n",
        "    d_w3 = tf.get_variable(\"d_w3\", [7 * 7 * 64, 1024],\n",
        "                           initializer=\n",
        "                           tf.truncated_normal_initializer(stddev=0.02))\n",
        "    d_b3 = tf.get_variable(\"d_b3\", [1024],\n",
        "                            initializer=tf.constant_initializer(0))\n",
        "    # flatten\n",
        "    d3 = tf.reshape(d2, [-1, 7 * 7 * 64])\n",
        "    d3 = tf.matmul(d3, d_w3) + d_b3\n",
        "    d3 = tf.nn.relu(d3)\n",
        "    ########################### Dense Layer 2 ##################################\n",
        "    d_w4 = tf.get_variable(\"d_w4\", [1024, 1],\n",
        "                           initializer=\n",
        "                           tf.truncated_normal_initializer(stddev=0.02))\n",
        "    d_b4 = tf.get_variable(\"d_b4\", [1],\n",
        "                            initializer=tf.constant_initializer(0))\n",
        "    d4 = tf.matmul(d3, d_w4) + d_b4\n",
        "    d4 = tf.nn.relu(d4)\n",
        "    # this is unscaled, so it's not probability or something\n",
        "    return d4"
      ],
      "execution_count": 0,
      "outputs": []
    },
    {
      "metadata": {
        "id": "Vr9A8w-lZXDH",
        "colab_type": "code",
        "colab": {
          "autoexec": {
            "startup": false,
            "wait_interval": 0
          }
        }
      },
      "cell_type": "code",
      "source": [
        "def generator(z, batch_size, z_dim, reuse=False):\n",
        "    \"\"\" Takes in random values, and generates images \"\"\"\n",
        "    if reuse:\n",
        "        tf.get_variable_scope().reuse_variables()\n",
        "    ################### Dense Layer 1 + Batch Normalization ####################\n",
        "    g_w1 = tf.get_variable(\"g_w1\", [z_dim, 3136], dtype=tf.float32,\n",
        "                    initializer=tf.truncated_normal_initializer(stddev=0.02))\n",
        "    g_b1 = tf.get_variable(\"g_b1\", [3136],\n",
        "                    initializer=tf.truncated_normal_initializer(stddev=0.02))\n",
        "    g1 = tf.matmul(z, g_w1) + g_b1\n",
        "    g1 = tf.reshape(g1, [-1, 56, 56, 1])\n",
        "    g1 = tf.contrib.layers.batch_norm(g1, epsilon=1e-5, scope=\"bn1\")\n",
        "    g1 = tf.nn.relu(g1)\n",
        "\n",
        "    ############## Convolutional Layer 1  + Batch Normalization ################\n",
        "\n",
        "    g_w2 = tf.get_variable(\"g_w2\", [3, 3, 1, z_dim/2], dtype=tf.float32,\n",
        "                    initializer=tf.truncated_normal_initializer(stddev=0.02))\n",
        "    g_b2 = tf.get_variable(\"g_b2\", [z_dim/2],\n",
        "                    initializer=tf.truncated_normal_initializer(stddev=0.02))\n",
        "    g2 = tf.nn.conv2d(g1, g_w2, strides=[1, 2, 2, 1], padding=\"SAME\")\n",
        "    g2 = g2 + g_b2\n",
        "    g2 = tf.contrib.layers.batch_norm(g2, epsilon=1e-5, scope=\"bn2\")\n",
        "    g2 = tf.nn.relu(g2)\n",
        "    g2 = tf.image.resize_images(g2, [56, 56])\n",
        "\n",
        "    ############## Convolutional Layer 2  + Batch Normalization ################\n",
        "    g_w3 = tf.get_variable(\"g_w3\", [3, 3, z_dim/2, z_dim/4], dtype=tf.float32,\n",
        "                    initializer=tf.truncated_normal_initializer(stddev=0.02))\n",
        "    g_b3 = tf.get_variable(\"g_b3\", [z_dim/4],\n",
        "                    initializer=tf.truncated_normal_initializer(stddev=0.02))\n",
        "    g3 = tf.nn.conv2d(g2, g_w3, strides=[1, 2, 2, 1], padding=\"SAME\")\n",
        "    g3 = g3 + g_b3\n",
        "    g3 = tf.contrib.layers.batch_norm(g3, epsilon=1e-5, scope=\"bn3\")\n",
        "    g3 = tf.nn.relu(g3)\n",
        "    g3 = tf.image.resize_images(g3, [56, 56])\n",
        "\n",
        "    ############## Convolutional Layer 3  + Batch Normalization ################\n",
        "    g_w4 = tf.get_variable(\"g_w4\", [1, 1, z_dim/4, 1], dtype=tf.float32,\n",
        "                    initializer=tf.truncated_normal_initializer(stddev=0.02))\n",
        "    g_b4 = tf.get_variable(\"g_b4\", [1],\n",
        "                    initializer=tf.truncated_normal_initializer(stddev=0.02))\n",
        "    g4 = tf.nn.conv2d(g3, g_w4, strides=[1, 2, 2, 1], padding=\"SAME\")\n",
        "    g4 = g4 + g_b4\n",
        "    # output dimensions: batch_size x 28 x 28 x 1\n",
        "    # the reason we're taking sigmoid is to have crispier image\n",
        "    g4 = tf.nn.sigmoid(g4)\n",
        "    return g4"
      ],
      "execution_count": 0,
      "outputs": []
    },
    {
      "metadata": {
        "id": "tgQBG8WrZac9",
        "colab_type": "code",
        "colab": {
          "autoexec": {
            "startup": false,
            "wait_interval": 0
          },
          "output_extras": [
            {
              "item_id": 1
            }
          ],
          "base_uri": "https://localhost:8080/",
          "height": 265
        },
        "outputId": "d99218bb-ac75-44e2-e617-7d12e5ee9777",
        "executionInfo": {
          "status": "ok",
          "timestamp": 1521651560236,
          "user_tz": -330,
          "elapsed": 898,
          "user": {
            "displayName": "Mayur Kulkarni",
            "photoUrl": "https://lh3.googleusercontent.com/a/default-user=s128",
            "userId": "116301151646646358552"
          }
        }
      },
      "cell_type": "code",
      "source": [
        "def print_random_image():\n",
        "    z_dimensions = 100\n",
        "    z_placeholder = tf.placeholder(tf.float32, shape=[None, z_dimensions])\n",
        "    noisy_image = generator(z_placeholder, 1, z_dimensions)\n",
        "    z_batch = np.random.normal(0, 1, [1, z_dimensions])\n",
        "    with tf.Session() as sess:\n",
        "        sess.run(tf.global_variables_initializer())\n",
        "        generated_image = sess.run(noisy_image, feed_dict={z_placeholder: z_batch})\n",
        "        generated_image = generated_image.reshape([28, 28])\n",
        "        plt.imshow(generated_image, cmap=\"Greys\")\n",
        "print_random_image()"
      ],
      "execution_count": 27,
      "outputs": [
        {
          "output_type": "display_data",
          "data": {
            "image/png": "[encoded data removed]",
            "text/plain": [
              "<matplotlib.figure.Figure at 0x7f9e486d8cf8>"
            ]
          },
          "metadata": {
            "tags": []
          }
        }
      ]
    },
    {
      "metadata": {
        "id": "kZGs0Id_akJ7",
        "colab_type": "code",
        "colab": {
          "autoexec": {
            "startup": false,
            "wait_interval": 0
          }
        }
      },
      "cell_type": "code",
      "source": [
        "tf.reset_default_graph()"
      ],
      "execution_count": 0,
      "outputs": []
    },
    {
      "metadata": {
        "id": "5RKgG_ACesN6",
        "colab_type": "code",
        "colab": {
          "autoexec": {
            "startup": false,
            "wait_interval": 0
          }
        }
      },
      "cell_type": "code",
      "source": [
        ""
      ],
      "execution_count": 0,
      "outputs": []
    }
  ]
}