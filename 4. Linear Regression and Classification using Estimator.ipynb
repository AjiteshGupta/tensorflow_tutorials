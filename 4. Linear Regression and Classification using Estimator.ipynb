{
 "cells": [
  {
   "cell_type": "markdown",
   "metadata": {},
   "source": [
    "## TensorFlow Estimator API\n",
    "\n",
    "TensorFlow by default has some models implemented. So you don't have to do it by yourself (like above) These implementations are listen in the Estimator API. It provides various features like training, evaluating, prediction, exporting model, etc. You can also inherit `Estimator` and create your own estimator. \n",
    "\n",
    "Steps to using Estimator API:\n",
    "1. Define list of feature columns.\n",
    "2. Create the Estimator model. \n",
    "3. Create a data input function.\n",
    "4. Call train, evaluate, and predict on the Estimator object. "
   ]
  },
  {
   "cell_type": "code",
   "execution_count": 1,
   "metadata": {},
   "outputs": [
    {
     "name": "stderr",
     "output_type": "stream",
     "text": [
      "/home/michael/anaconda3/lib/python3.6/site-packages/h5py/__init__.py:36: FutureWarning: Conversion of the second argument of issubdtype from `float` to `np.floating` is deprecated. In future, it will be treated as `np.float64 == np.dtype(float).type`.\n",
      "  from ._conv import register_converters as _register_converters\n"
     ]
    }
   ],
   "source": [
    "import numpy as np\n",
    "import tensorflow as tf\n",
    "import matplotlib.pyplot as plt\n",
    "from sklearn.datasets import make_regression\n",
    "import matplotlib.pyplot as plt\n",
    "%matplotlib inline"
   ]
  },
  {
   "cell_type": "markdown",
   "metadata": {},
   "source": [
    "### 1. Define list of feature columns"
   ]
  },
  {
   "cell_type": "code",
   "execution_count": 3,
   "metadata": {},
   "outputs": [
    {
     "data": {
      "text/plain": [
       "<matplotlib.collections.PathCollection at 0x7f0298396630>"
      ]
     },
     "execution_count": 3,
     "metadata": {},
     "output_type": "execute_result"
    },
    {
     "data": {
      "image/png": "[encoded data removed]",
      "text/plain": [
       "<matplotlib.figure.Figure at 0x7f029a4480f0>"
      ]
     },
     "metadata": {},
     "output_type": "display_data"
    }
   ],
   "source": [
    "X, y = make_regression(n_features=1, noise=10)\n",
    "fig = plt.figure(figsize=(12, 8))\n",
    "plt.scatter(X, y)"
   ]
  },
  {
   "cell_type": "code",
   "execution_count": 4,
   "metadata": {},
   "outputs": [],
   "source": [
    "# shape = 1 since we only have 1 feature\n",
    "feat_cols = [tf.feature_column.numeric_column(\"X\", shape=[1])]\n",
    "# create estimator, pass in the features"
   ]
  },
  {
   "cell_type": "markdown",
   "metadata": {},
   "source": [
    "### 2. Create Estimator"
   ]
  },
  {
   "cell_type": "code",
   "execution_count": 5,
   "metadata": {},
   "outputs": [
    {
     "name": "stdout",
     "output_type": "stream",
     "text": [
      "INFO:tensorflow:Using default config.\n",
      "WARNING:tensorflow:Using temporary folder as model directory: /tmp/tmp1nc6f3x5\n",
      "INFO:tensorflow:Using config: {'_model_dir': '/tmp/tmp1nc6f3x5', '_tf_random_seed': None, '_save_summary_steps': 100, '_save_checkpoints_steps': None, '_save_checkpoints_secs': 600, '_session_config': None, '_keep_checkpoint_max': 5, '_keep_checkpoint_every_n_hours': 10000, '_log_step_count_steps': 100, '_service': None, '_cluster_spec': <tensorflow.python.training.server_lib.ClusterSpec object at 0x7f0298333c50>, '_task_type': 'worker', '_task_id': 0, '_global_id_in_cluster': 0, '_master': '', '_evaluation_master': '', '_is_chief': True, '_num_ps_replicas': 0, '_num_worker_replicas': 1}\n"
     ]
    }
   ],
   "source": [
    "estimator = tf.estimator.LinearRegressor(feature_columns=feat_cols)\n",
    "# ignore the warnings"
   ]
  },
  {
   "cell_type": "code",
   "execution_count": 6,
   "metadata": {},
   "outputs": [],
   "source": [
    "# create train and test set\n",
    "from sklearn.model_selection import train_test_split\n",
    "\n",
    "X_train, X_test, y_train, y_test = train_test_split(X, y.reshape(-1, 1), test_size=0.2)"
   ]
  },
  {
   "cell_type": "markdown",
   "metadata": {},
   "source": [
    "### 3. Create data input function"
   ]
  },
  {
   "cell_type": "code",
   "execution_count": 8,
   "metadata": {},
   "outputs": [],
   "source": [
    "input_function = tf.estimator.inputs.numpy_input_fn({\"X\": X.ravel()}, y, batch_size=4, shuffle=True, num_epochs=None)\n",
    "\n",
    "train_input_function = tf.estimator.inputs.numpy_input_fn({\"X\": X_train}, y_train.reshape(-1, 1), batch_size=8, \n",
    "                                                    num_epochs=None, shuffle=False)\n",
    "\n",
    "test_input_function = tf.estimator.inputs.numpy_input_fn({\"X\": X_test}, y_test.reshape(-1, 1), batch_size=8, \n",
    "                                                    num_epochs=None, shuffle=False)"
   ]
  },
  {
   "cell_type": "markdown",
   "metadata": {},
   "source": [
    "### 4. Train Estimator"
   ]
  },
  {
   "cell_type": "code",
   "execution_count": 9,
   "metadata": {},
   "outputs": [
    {
     "name": "stdout",
     "output_type": "stream",
     "text": [
      "INFO:tensorflow:Calling model_fn.\n",
      "INFO:tensorflow:Done calling model_fn.\n",
      "INFO:tensorflow:Create CheckpointSaverHook.\n",
      "INFO:tensorflow:Graph was finalized.\n",
      "INFO:tensorflow:Running local_init_op.\n",
      "INFO:tensorflow:Done running local_init_op.\n",
      "INFO:tensorflow:Saving checkpoints for 1 into /tmp/tmp1nc6f3x5/model.ckpt.\n",
      "INFO:tensorflow:loss = 6830.7573, step = 1\n",
      "INFO:tensorflow:global_step/sec: 435.403\n",
      "INFO:tensorflow:loss = 37412.234, step = 101 (0.241 sec)\n",
      "INFO:tensorflow:global_step/sec: 483.862\n",
      "INFO:tensorflow:loss = 14549.085, step = 201 (0.197 sec)\n",
      "INFO:tensorflow:global_step/sec: 556.258\n",
      "INFO:tensorflow:loss = 22560.947, step = 301 (0.182 sec)\n",
      "INFO:tensorflow:global_step/sec: 526.557\n",
      "INFO:tensorflow:loss = 2831.4712, step = 401 (0.190 sec)\n",
      "INFO:tensorflow:global_step/sec: 621.778\n",
      "INFO:tensorflow:loss = 8244.174, step = 501 (0.160 sec)\n",
      "INFO:tensorflow:global_step/sec: 358.511\n",
      "INFO:tensorflow:loss = 14417.907, step = 601 (0.283 sec)\n",
      "INFO:tensorflow:global_step/sec: 477.739\n",
      "INFO:tensorflow:loss = 30424.617, step = 701 (0.213 sec)\n",
      "INFO:tensorflow:global_step/sec: 535.853\n",
      "INFO:tensorflow:loss = 20998.217, step = 801 (0.186 sec)\n",
      "INFO:tensorflow:global_step/sec: 271.297\n",
      "INFO:tensorflow:loss = 5884.811, step = 901 (0.371 sec)\n",
      "INFO:tensorflow:Saving checkpoints for 1000 into /tmp/tmp1nc6f3x5/model.ckpt.\n",
      "INFO:tensorflow:Loss for final step: 1588.3678.\n"
     ]
    },
    {
     "data": {
      "text/plain": [
       "<tensorflow.python.estimator.canned.linear.LinearRegressor at 0x7f029a46c2b0>"
      ]
     },
     "execution_count": 9,
     "metadata": {},
     "output_type": "execute_result"
    }
   ],
   "source": [
    "# steps is the maximum number of steps to take\n",
    "# while training\n",
    "estimator.train(input_fn=input_function, steps=1000)"
   ]
  },
  {
   "cell_type": "code",
   "execution_count": null,
   "metadata": {},
   "outputs": [],
   "source": []
  }
 ],
 "metadata": {
  "kernelspec": {
   "display_name": "Python 3",
   "language": "python",
   "name": "python3"
  },
  "language_info": {
   "codemirror_mode": {
    "name": "ipython",
    "version": 3
   },
   "file_extension": ".py",
   "mimetype": "text/x-python",
   "name": "python",
   "nbconvert_exporter": "python",
   "pygments_lexer": "ipython3",
   "version": "3.6.4"
  }
 },
 "nbformat": 4,
 "nbformat_minor": 2
}
