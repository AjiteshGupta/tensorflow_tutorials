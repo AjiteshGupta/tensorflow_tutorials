{
 "cells": [
  {
   "cell_type": "code",
   "execution_count": 4,
   "metadata": {},
   "outputs": [],
   "source": [
    "import numpy as np\n",
    "import tensorflow as tf\n",
    "import matplotlib.pyplot as plt\n",
    "from sklearn.datasets import make_regression\n",
    "import matplotlib.pyplot as plt\n",
    "%matplotlib inline"
   ]
  },
  {
   "cell_type": "code",
   "execution_count": 3,
   "metadata": {},
   "outputs": [
    {
     "data": {
      "image/png": "[encoded data removed]",
      "text/plain": [
       "<matplotlib.figure.Figure at 0x7efbaabe8438>"
      ]
     },
     "metadata": {},
     "output_type": "display_data"
    }
   ],
   "source": [
    "X, y = make_regression(n_features=1, noise=15)\n",
    "fig = plt.figure(figsize=(12, 8))\n",
    "plt.scatter(X, y)\n",
    "X_train = np.hstack((np.ones((X.shape[0], 1)), X))"
   ]
  },
  {
   "cell_type": "code",
   "execution_count": 4,
   "metadata": {},
   "outputs": [],
   "source": [
    "# setup Simple Regression\n",
    "n_features = 1\n",
    "n_samples = X_train.shape[0]\n",
    "X_inp = tf.placeholder(dtype=tf.float32, shape=(n_samples, 2))\n",
    "weights = tf.Variable(tf.random_normal((1, 2)))\n",
    "y_pred = tf.matmul(weights, tf.transpose(X_inp))\n",
    "error = tf.losses.mean_squared_error(y.reshape(-1, 1), tf.transpose(y_pred))\n",
    "init = tf.global_variables_initializer()  \n",
    "\n",
    "# Reduce error by gradient descent\n",
    "optimizer = tf.train.GradientDescentOptimizer(learning_rate=0.01)\n",
    "train = optimizer.minimize(error)"
   ]
  },
  {
   "cell_type": "code",
   "execution_count": 9,
   "metadata": {},
   "outputs": [
    {
     "name": "stdout",
     "output_type": "stream",
     "text": [
      "Loss at iteration 0 : 2532.04\n",
      "Loss at iteration 1 : 2465.49\n",
      "Loss at iteration 2 : 2400.87\n",
      "Loss at iteration 3 : 2338.13\n",
      "Loss at iteration 4 : 2277.22\n",
      "Loss at iteration 5 : 2218.08\n",
      "Loss at iteration 6 : 2160.66\n",
      "Loss at iteration 7 : 2104.91\n",
      "Loss at iteration 8 : 2050.77\n",
      "Loss at iteration 9 : 1998.21\n",
      "Loss at iteration 10 : 1947.18\n",
      "Loss at iteration 11 : 1897.63\n",
      "Loss at iteration 12 : 1849.52\n",
      "Loss at iteration 13 : 1802.81\n",
      "Loss at iteration 14 : 1757.45\n",
      "Loss at iteration 15 : 1713.41\n",
      "Loss at iteration 16 : 1670.64\n",
      "Loss at iteration 17 : 1629.12\n",
      "Loss at iteration 18 : 1588.80\n",
      "Loss at iteration 19 : 1549.65\n",
      "Loss at iteration 20 : 1511.63\n",
      "Loss at iteration 21 : 1474.72\n",
      "Loss at iteration 22 : 1438.88\n",
      "Loss at iteration 23 : 1404.07\n",
      "Loss at iteration 24 : 1370.28\n",
      "Loss at iteration 25 : 1337.46\n",
      "Loss at iteration 26 : 1305.59\n",
      "Loss at iteration 27 : 1274.65\n",
      "Loss at iteration 28 : 1244.60\n",
      "Loss at iteration 29 : 1215.42\n",
      "Loss at iteration 30 : 1187.09\n",
      "Loss at iteration 31 : 1159.57\n",
      "Loss at iteration 32 : 1132.86\n",
      "Loss at iteration 33 : 1106.91\n",
      "Loss at iteration 34 : 1081.72\n",
      "Loss at iteration 35 : 1057.25\n",
      "Loss at iteration 36 : 1033.49\n",
      "Loss at iteration 37 : 1010.42\n",
      "Loss at iteration 38 : 988.02\n",
      "Loss at iteration 39 : 966.26\n",
      "Loss at iteration 40 : 945.13\n",
      "Loss at iteration 41 : 924.61\n",
      "Loss at iteration 42 : 904.69\n",
      "Loss at iteration 43 : 885.34\n",
      "Loss at iteration 44 : 866.54\n",
      "Loss at iteration 45 : 848.30\n",
      "Loss at iteration 46 : 830.57\n",
      "Loss at iteration 47 : 813.36\n",
      "Loss at iteration 48 : 796.65\n",
      "Loss at iteration 49 : 780.42\n",
      "Loss at iteration 50 : 764.66\n",
      "Loss at iteration 51 : 749.35\n",
      "Loss at iteration 52 : 734.48\n",
      "Loss at iteration 53 : 720.04\n",
      "Loss at iteration 54 : 706.02\n",
      "Loss at iteration 55 : 692.41\n",
      "Loss at iteration 56 : 679.18\n",
      "Loss at iteration 57 : 666.34\n",
      "Loss at iteration 58 : 653.86\n",
      "Loss at iteration 59 : 641.75\n",
      "Loss at iteration 60 : 629.99\n",
      "Loss at iteration 61 : 618.56\n",
      "Loss at iteration 62 : 607.47\n",
      "Loss at iteration 63 : 596.69\n",
      "Loss at iteration 64 : 586.22\n",
      "Loss at iteration 65 : 576.06\n",
      "Loss at iteration 66 : 566.19\n",
      "Loss at iteration 67 : 556.60\n",
      "Loss at iteration 68 : 547.29\n",
      "Loss at iteration 69 : 538.24\n",
      "Loss at iteration 70 : 529.46\n",
      "Loss at iteration 71 : 520.93\n",
      "Loss at iteration 72 : 512.64\n",
      "Loss at iteration 73 : 504.60\n",
      "Loss at iteration 74 : 496.78\n",
      "Loss at iteration 75 : 489.19\n",
      "Loss at iteration 76 : 481.82\n",
      "Loss at iteration 77 : 474.66\n",
      "Loss at iteration 78 : 467.71\n",
      "Loss at iteration 79 : 460.95\n",
      "Loss at iteration 80 : 454.39\n",
      "Loss at iteration 81 : 448.02\n",
      "Loss at iteration 82 : 441.83\n",
      "Loss at iteration 83 : 435.82\n",
      "Loss at iteration 84 : 429.99\n",
      "Loss at iteration 85 : 424.32\n",
      "Loss at iteration 86 : 418.81\n",
      "Loss at iteration 87 : 413.46\n",
      "Loss at iteration 88 : 408.27\n",
      "Loss at iteration 89 : 403.22\n",
      "Loss at iteration 90 : 398.32\n",
      "Loss at iteration 91 : 393.56\n",
      "Loss at iteration 92 : 388.94\n",
      "Loss at iteration 93 : 384.45\n",
      "Loss at iteration 94 : 380.09\n",
      "Loss at iteration 95 : 375.85\n",
      "Loss at iteration 96 : 371.74\n",
      "Loss at iteration 97 : 367.74\n",
      "Loss at iteration 98 : 363.86\n",
      "Loss at iteration 99 : 360.09\n",
      "Loss at iteration 100 : 356.43\n",
      "Loss at iteration 101 : 352.87\n",
      "Loss at iteration 102 : 349.42\n",
      "Loss at iteration 103 : 346.06\n",
      "Loss at iteration 104 : 342.80\n",
      "Loss at iteration 105 : 339.64\n",
      "Loss at iteration 106 : 336.56\n",
      "Loss at iteration 107 : 333.57\n",
      "Loss at iteration 108 : 330.67\n",
      "Loss at iteration 109 : 327.85\n",
      "Loss at iteration 110 : 325.12\n",
      "Loss at iteration 111 : 322.46\n",
      "Loss at iteration 112 : 319.88\n",
      "Loss at iteration 113 : 317.37\n",
      "Loss at iteration 114 : 314.93\n",
      "Loss at iteration 115 : 312.57\n",
      "Loss at iteration 116 : 310.27\n",
      "Loss at iteration 117 : 308.04\n",
      "Loss at iteration 118 : 305.87\n",
      "Loss at iteration 119 : 303.76\n",
      "Loss at iteration 120 : 301.71\n",
      "Loss at iteration 121 : 299.73\n",
      "Loss at iteration 122 : 297.80\n",
      "Loss at iteration 123 : 295.92\n",
      "Loss at iteration 124 : 294.10\n",
      "Loss at iteration 125 : 292.33\n",
      "Loss at iteration 126 : 290.61\n",
      "Loss at iteration 127 : 288.94\n",
      "Loss at iteration 128 : 287.32\n",
      "Loss at iteration 129 : 285.75\n",
      "Loss at iteration 130 : 284.22\n",
      "Loss at iteration 131 : 282.73\n",
      "Loss at iteration 132 : 281.29\n",
      "Loss at iteration 133 : 279.89\n",
      "Loss at iteration 134 : 278.52\n",
      "Loss at iteration 135 : 277.20\n",
      "Loss at iteration 136 : 275.92\n",
      "Loss at iteration 137 : 274.67\n",
      "Loss at iteration 138 : 273.46\n",
      "Loss at iteration 139 : 272.28\n",
      "Loss at iteration 140 : 271.13\n",
      "Loss at iteration 141 : 270.02\n",
      "Loss at iteration 142 : 268.94\n",
      "Loss at iteration 143 : 267.89\n",
      "Loss at iteration 144 : 266.88\n",
      "Loss at iteration 145 : 265.89\n",
      "Loss at iteration 146 : 264.93\n",
      "Loss at iteration 147 : 263.99\n",
      "Loss at iteration 148 : 263.09\n",
      "Loss at iteration 149 : 262.20\n",
      "Loss at iteration 150 : 261.35\n",
      "Loss at iteration 151 : 260.52\n",
      "Loss at iteration 152 : 259.71\n",
      "Loss at iteration 153 : 258.93\n",
      "Loss at iteration 154 : 258.16\n",
      "Loss at iteration 155 : 257.42\n",
      "Loss at iteration 156 : 256.71\n",
      "Loss at iteration 157 : 256.01\n",
      "Loss at iteration 158 : 255.33\n",
      "Loss at iteration 159 : 254.67\n",
      "Loss at iteration 160 : 254.03\n",
      "Loss at iteration 161 : 253.41\n",
      "Loss at iteration 162 : 252.80\n",
      "Loss at iteration 163 : 252.22\n",
      "Loss at iteration 164 : 251.65\n",
      "Loss at iteration 165 : 251.09\n",
      "Loss at iteration 166 : 250.56\n",
      "Loss at iteration 167 : 250.03\n",
      "Loss at iteration 168 : 249.53\n",
      "Loss at iteration 169 : 249.03\n",
      "Loss at iteration 170 : 248.55\n",
      "Loss at iteration 171 : 248.09\n",
      "Loss at iteration 172 : 247.64\n",
      "Loss at iteration 173 : 247.20\n",
      "Loss at iteration 174 : 246.77\n",
      "Loss at iteration 175 : 246.36\n",
      "Loss at iteration 176 : 245.96\n",
      "Loss at iteration 177 : 245.56\n",
      "Loss at iteration 178 : 245.19\n",
      "Loss at iteration 179 : 244.82\n",
      "Loss at iteration 180 : 244.46\n",
      "Loss at iteration 181 : 244.11\n",
      "Loss at iteration 182 : 243.77\n",
      "Loss at iteration 183 : 243.44\n",
      "Loss at iteration 184 : 243.12\n",
      "Loss at iteration 185 : 242.81\n",
      "Loss at iteration 186 : 242.51\n",
      "Loss at iteration 187 : 242.22\n",
      "Loss at iteration 188 : 241.94\n",
      "Loss at iteration 189 : 241.66\n",
      "Loss at iteration 190 : 241.39\n",
      "Loss at iteration 191 : 241.13\n",
      "Loss at iteration 192 : 240.88\n",
      "Loss at iteration 193 : 240.63\n",
      "Loss at iteration 194 : 240.40\n",
      "Loss at iteration 195 : 240.16\n",
      "Loss at iteration 196 : 239.94\n",
      "Loss at iteration 197 : 239.72\n",
      "Loss at iteration 198 : 239.51\n",
      "Loss at iteration 199 : 239.30\n",
      "Loss at iteration 200 : 239.10\n",
      "Loss at iteration 201 : 238.91\n",
      "Loss at iteration 202 : 238.72\n",
      "Loss at iteration 203 : 238.53\n",
      "Loss at iteration 204 : 238.35\n",
      "Loss at iteration 205 : 238.18\n",
      "Loss at iteration 206 : 238.01\n",
      "Loss at iteration 207 : 237.85\n",
      "Loss at iteration 208 : 237.69\n",
      "Loss at iteration 209 : 237.53\n",
      "Loss at iteration 210 : 237.38\n",
      "Loss at iteration 211 : 237.24\n",
      "Loss at iteration 212 : 237.10\n",
      "Loss at iteration 213 : 236.96\n",
      "Loss at iteration 214 : 236.83\n",
      "Loss at iteration 215 : 236.70\n",
      "Loss at iteration 216 : 236.57\n",
      "Loss at iteration 217 : 236.45\n",
      "Loss at iteration 218 : 236.33\n",
      "Loss at iteration 219 : 236.21\n",
      "Loss at iteration 220 : 236.10\n",
      "Loss at iteration 221 : 235.99\n",
      "Loss at iteration 222 : 235.88\n",
      "Loss at iteration 223 : 235.78\n",
      "Loss at iteration 224 : 235.68\n",
      "Loss at iteration 225 : 235.58\n",
      "Loss at iteration 226 : 235.49\n",
      "Loss at iteration 227 : 235.40\n",
      "Loss at iteration 228 : 235.31\n",
      "Loss at iteration 229 : 235.22\n",
      "Loss at iteration 230 : 235.14\n",
      "Loss at iteration 231 : 235.06\n",
      "Loss at iteration 232 : 234.98\n",
      "Loss at iteration 233 : 234.90\n",
      "Loss at iteration 234 : 234.83\n",
      "Loss at iteration 235 : 234.75\n",
      "Loss at iteration 236 : 234.68\n",
      "Loss at iteration 237 : 234.61\n",
      "Loss at iteration 238 : 234.55\n",
      "Loss at iteration 239 : 234.48\n",
      "Loss at iteration 240 : 234.42\n",
      "Loss at iteration 241 : 234.36\n",
      "Loss at iteration 242 : 234.30\n",
      "Loss at iteration 243 : 234.24\n",
      "Loss at iteration 244 : 234.18\n",
      "Loss at iteration 245 : 234.13\n",
      "Loss at iteration 246 : 234.08\n",
      "Loss at iteration 247 : 234.03\n",
      "Loss at iteration 248 : 233.98\n",
      "Loss at iteration 249 : 233.93\n",
      "Loss at iteration 250 : 233.88\n",
      "Loss at iteration 251 : 233.83\n",
      "Loss at iteration 252 : 233.79\n",
      "Loss at iteration 253 : 233.75\n",
      "Loss at iteration 254 : 233.70\n",
      "Loss at iteration 255 : 233.66\n",
      "Loss at iteration 256 : 233.62\n",
      "Loss at iteration 257 : 233.59\n",
      "Loss at iteration 258 : 233.55\n",
      "Loss at iteration 259 : 233.51\n",
      "Loss at iteration 260 : 233.48\n",
      "Loss at iteration 261 : 233.44\n",
      "Loss at iteration 262 : 233.41\n",
      "Loss at iteration 263 : 233.38\n",
      "Loss at iteration 264 : 233.35\n",
      "Loss at iteration 265 : 233.32\n",
      "Loss at iteration 266 : 233.29\n",
      "Loss at iteration 267 : 233.26\n",
      "Loss at iteration 268 : 233.23\n",
      "Loss at iteration 269 : 233.20\n",
      "Loss at iteration 270 : 233.18\n",
      "Loss at iteration 271 : 233.15\n",
      "Loss at iteration 272 : 233.12\n",
      "Loss at iteration 273 : 233.10\n",
      "Loss at iteration 274 : 233.08\n",
      "Loss at iteration 275 : 233.05\n",
      "Loss at iteration 276 : 233.03\n",
      "Loss at iteration 277 : 233.01\n",
      "Loss at iteration 278 : 232.99\n",
      "Loss at iteration 279 : 232.97\n",
      "Loss at iteration 280 : 232.95\n",
      "Loss at iteration 281 : 232.93\n",
      "Loss at iteration 282 : 232.91\n",
      "Loss at iteration 283 : 232.89\n",
      "Loss at iteration 284 : 232.88\n",
      "Loss at iteration 285 : 232.86\n",
      "Loss at iteration 286 : 232.84\n",
      "Loss at iteration 287 : 232.83\n",
      "Loss at iteration 288 : 232.81\n",
      "Loss at iteration 289 : 232.80\n",
      "Loss at iteration 290 : 232.78\n",
      "Loss at iteration 291 : 232.77\n",
      "Loss at iteration 292 : 232.75\n",
      "Loss at iteration 293 : 232.74\n",
      "Loss at iteration 294 : 232.73\n",
      "Loss at iteration 295 : 232.71\n",
      "Loss at iteration 296 : 232.70\n",
      "Loss at iteration 297 : 232.69\n",
      "Loss at iteration 298 : 232.68\n",
      "Loss at iteration 299 : 232.66\n",
      "Loss at iteration 300 : 232.65\n",
      "Loss at iteration 301 : 232.64\n",
      "Loss at iteration 302 : 232.63\n",
      "Loss at iteration 303 : 232.62\n",
      "Loss at iteration 304 : 232.61\n",
      "Loss at iteration 305 : 232.60\n",
      "Loss at iteration 306 : 232.59\n",
      "Loss at iteration 307 : 232.58\n",
      "Loss at iteration 308 : 232.58\n",
      "Loss at iteration 309 : 232.57\n",
      "Loss at iteration 310 : 232.56\n",
      "Loss at iteration 311 : 232.55\n",
      "Loss at iteration 312 : 232.54\n",
      "Loss at iteration 313 : 232.54\n",
      "Loss at iteration 314 : 232.53\n",
      "Loss at iteration 315 : 232.52\n",
      "Loss at iteration 316 : 232.51\n",
      "Loss at iteration 317 : 232.51\n",
      "Loss at iteration 318 : 232.50\n",
      "Loss at iteration 319 : 232.49\n",
      "Loss at iteration 320 : 232.49\n",
      "Loss at iteration 321 : 232.48\n",
      "Loss at iteration 322 : 232.48\n",
      "Loss at iteration 323 : 232.47\n",
      "Loss at iteration 324 : 232.46\n",
      "Loss at iteration 325 : 232.46\n",
      "Loss at iteration 326 : 232.45\n",
      "Loss at iteration 327 : 232.45\n",
      "Loss at iteration 328 : 232.44\n",
      "Loss at iteration 329 : 232.44\n",
      "Loss at iteration 330 : 232.43\n",
      "Loss at iteration 331 : 232.43\n",
      "Loss at iteration 332 : 232.43\n",
      "Loss at iteration 333 : 232.42\n",
      "Loss at iteration 334 : 232.42\n",
      "Loss at iteration 335 : 232.41\n",
      "Loss at iteration 336 : 232.41\n",
      "Loss at iteration 337 : 232.41\n",
      "Loss at iteration 338 : 232.40\n",
      "Loss at iteration 339 : 232.40\n",
      "Loss at iteration 340 : 232.39\n",
      "Loss at iteration 341 : 232.39\n",
      "Loss at iteration 342 : 232.39\n",
      "Loss at iteration 343 : 232.39\n",
      "Loss at iteration 344 : 232.38\n",
      "Loss at iteration 345 : 232.38\n",
      "Loss at iteration 346 : 232.38\n",
      "Loss at iteration 347 : 232.37\n",
      "Loss at iteration 348 : 232.37\n",
      "Loss at iteration 349 : 232.37\n",
      "Loss at iteration 350 : 232.37\n",
      "Loss at iteration 351 : 232.36\n",
      "Loss at iteration 352 : 232.36\n",
      "Loss at iteration 353 : 232.36\n",
      "Loss at iteration 354 : 232.36\n",
      "Loss at iteration 355 : 232.35\n",
      "Loss at iteration 356 : 232.35\n",
      "Loss at iteration 357 : 232.35\n",
      "Loss at iteration 358 : 232.35\n",
      "Loss at iteration 359 : 232.34\n",
      "Loss at iteration 360 : 232.34\n",
      "Loss at iteration 361 : 232.34\n",
      "Loss at iteration 362 : 232.34\n",
      "Loss at iteration 363 : 232.34\n",
      "Loss at iteration 364 : 232.34\n",
      "Loss at iteration 365 : 232.33\n",
      "Loss at iteration 366 : 232.33\n",
      "Loss at iteration 367 : 232.33\n",
      "Loss at iteration 368 : 232.33\n"
     ]
    },
    {
     "name": "stdout",
     "output_type": "stream",
     "text": [
      "Loss at iteration 369 : 232.33\n",
      "Loss at iteration 370 : 232.33\n",
      "Loss at iteration 371 : 232.32\n",
      "Loss at iteration 372 : 232.32\n",
      "Loss at iteration 373 : 232.32\n",
      "Loss at iteration 374 : 232.32\n",
      "Loss at iteration 375 : 232.32\n",
      "Loss at iteration 376 : 232.32\n",
      "Loss at iteration 377 : 232.32\n",
      "Loss at iteration 378 : 232.32\n",
      "Loss at iteration 379 : 232.31\n",
      "Loss at iteration 380 : 232.31\n",
      "Loss at iteration 381 : 232.31\n",
      "Loss at iteration 382 : 232.31\n",
      "Loss at iteration 383 : 232.31\n",
      "Loss at iteration 384 : 232.31\n",
      "Loss at iteration 385 : 232.31\n",
      "Loss at iteration 386 : 232.31\n",
      "Loss at iteration 387 : 232.31\n",
      "Loss at iteration 388 : 232.31\n",
      "Loss at iteration 389 : 232.31\n",
      "Loss at iteration 390 : 232.30\n",
      "Loss at iteration 391 : 232.30\n",
      "Loss at iteration 392 : 232.30\n",
      "Loss at iteration 393 : 232.30\n",
      "Loss at iteration 394 : 232.30\n",
      "Loss at iteration 395 : 232.30\n",
      "Loss at iteration 396 : 232.30\n",
      "Loss at iteration 397 : 232.30\n",
      "Loss at iteration 398 : 232.30\n",
      "Loss at iteration 399 : 232.30\n",
      "Loss at iteration 400 : 232.30\n",
      "Loss at iteration 401 : 232.30\n",
      "Loss at iteration 402 : 232.30\n",
      "Loss at iteration 403 : 232.30\n",
      "Loss at iteration 404 : 232.30\n",
      "Loss at iteration 405 : 232.29\n",
      "Loss at iteration 406 : 232.29\n",
      "Loss at iteration 407 : 232.29\n",
      "Loss at iteration 408 : 232.29\n",
      "Loss at iteration 409 : 232.29\n",
      "Loss at iteration 410 : 232.29\n",
      "Loss at iteration 411 : 232.29\n",
      "Loss at iteration 412 : 232.29\n",
      "Loss at iteration 413 : 232.29\n",
      "Loss at iteration 414 : 232.29\n",
      "Loss at iteration 415 : 232.29\n",
      "Loss at iteration 416 : 232.29\n",
      "Loss at iteration 417 : 232.29\n",
      "Loss at iteration 418 : 232.29\n",
      "Loss at iteration 419 : 232.29\n",
      "Loss at iteration 420 : 232.29\n",
      "Loss at iteration 421 : 232.29\n",
      "Loss at iteration 422 : 232.29\n",
      "Loss at iteration 423 : 232.29\n",
      "Loss at iteration 424 : 232.29\n",
      "Loss at iteration 425 : 232.29\n",
      "Loss at iteration 426 : 232.29\n",
      "Loss at iteration 427 : 232.29\n",
      "Loss at iteration 428 : 232.29\n",
      "Loss at iteration 429 : 232.29\n",
      "Loss at iteration 430 : 232.29\n",
      "Loss at iteration 431 : 232.28\n",
      "Loss at iteration 432 : 232.28\n",
      "Loss at iteration 433 : 232.28\n",
      "Loss at iteration 434 : 232.28\n",
      "Loss at iteration 435 : 232.28\n",
      "Loss at iteration 436 : 232.28\n",
      "Loss at iteration 437 : 232.28\n",
      "Loss at iteration 438 : 232.28\n",
      "Loss at iteration 439 : 232.28\n",
      "Loss at iteration 440 : 232.28\n",
      "Loss at iteration 441 : 232.28\n",
      "Loss at iteration 442 : 232.28\n",
      "Loss at iteration 443 : 232.28\n",
      "Loss at iteration 444 : 232.28\n",
      "Loss at iteration 445 : 232.28\n",
      "Loss at iteration 446 : 232.28\n",
      "Loss at iteration 447 : 232.28\n",
      "Loss at iteration 448 : 232.28\n",
      "Loss at iteration 449 : 232.28\n",
      "Loss at iteration 450 : 232.28\n",
      "Loss at iteration 451 : 232.28\n",
      "Loss at iteration 452 : 232.28\n",
      "Loss at iteration 453 : 232.28\n",
      "Loss at iteration 454 : 232.28\n",
      "Loss at iteration 455 : 232.28\n",
      "Loss at iteration 456 : 232.28\n",
      "Loss at iteration 457 : 232.28\n",
      "Loss at iteration 458 : 232.28\n",
      "Loss at iteration 459 : 232.28\n",
      "Loss at iteration 460 : 232.28\n",
      "Loss at iteration 461 : 232.28\n",
      "Loss at iteration 462 : 232.28\n",
      "Loss at iteration 463 : 232.28\n",
      "Loss at iteration 464 : 232.28\n",
      "Loss at iteration 465 : 232.28\n",
      "Loss at iteration 466 : 232.28\n",
      "Loss at iteration 467 : 232.28\n",
      "Loss at iteration 468 : 232.28\n",
      "Loss at iteration 469 : 232.28\n",
      "Loss at iteration 470 : 232.28\n",
      "Loss at iteration 471 : 232.28\n",
      "Loss at iteration 472 : 232.28\n",
      "Loss at iteration 473 : 232.28\n",
      "Loss at iteration 474 : 232.28\n",
      "Loss at iteration 475 : 232.28\n",
      "Loss at iteration 476 : 232.28\n",
      "Loss at iteration 477 : 232.28\n",
      "Loss at iteration 478 : 232.28\n",
      "Loss at iteration 479 : 232.28\n",
      "Loss at iteration 480 : 232.28\n",
      "Loss at iteration 481 : 232.28\n",
      "Loss at iteration 482 : 232.28\n",
      "Loss at iteration 483 : 232.28\n",
      "Loss at iteration 484 : 232.28\n",
      "Loss at iteration 485 : 232.28\n",
      "Loss at iteration 486 : 232.28\n",
      "Loss at iteration 487 : 232.28\n",
      "Loss at iteration 488 : 232.28\n",
      "Loss at iteration 489 : 232.28\n",
      "Loss at iteration 490 : 232.28\n",
      "Loss at iteration 491 : 232.28\n",
      "Loss at iteration 492 : 232.28\n",
      "Loss at iteration 493 : 232.28\n",
      "Loss at iteration 494 : 232.28\n",
      "Loss at iteration 495 : 232.28\n",
      "Loss at iteration 496 : 232.28\n",
      "Loss at iteration 497 : 232.28\n",
      "Loss at iteration 498 : 232.28\n",
      "Loss at iteration 499 : 232.28\n"
     ]
    }
   ],
   "source": [
    "with tf.Session() as sess:\n",
    "    sess.run(init)\n",
    "    n_iterations = 500\n",
    "    for i in range(n_iterations):\n",
    "        sess.run(train, feed_dict={X_inp: X_train})\n",
    "        print(\"Loss at iteration {0} : {1:.2f}\".format(i, sess.run(error, feed_dict={X_inp: X_train})))\n",
    "    y_pred_plot = sess.run(y_pred, feed_dict={X_inp: X_train})"
   ]
  },
  {
   "cell_type": "code",
   "execution_count": 8,
   "metadata": {},
   "outputs": [
    {
     "data": {
      "text/plain": [
       "Text(0.5,1,'Simple Linear Regression using TensorFlow')"
      ]
     },
     "execution_count": 8,
     "metadata": {},
     "output_type": "execute_result"
    },
    {
     "data": {
      "image/png": "[encoded data removed]",
      "text/plain": [
       "<matplotlib.figure.Figure at 0x7efba507c128>"
      ]
     },
     "metadata": {},
     "output_type": "display_data"
    }
   ],
   "source": [
    "fig = plt.figure(figsize=(12, 8))\n",
    "plt.scatter(X, y, label=\"Prediction\")\n",
    "plt.plot(X, y_pred_plot.T, color=\"red\")\n",
    "plt.legend()\n",
    "plt.title(\"Simple Linear Regression using TensorFlow\")"
   ]
  },
  {
   "cell_type": "markdown",
   "metadata": {},
   "source": [
    "## TensorFlow Estimator API\n",
    "\n",
    "TensorFlow by default has some models implemented. So you don't have to do it by yourself (like above) These implementations are listen in the Estimator API. It provides various features like training, evaluating, prediction, exporting model, etc. You can also inherit `Estimator` and create your own estimator. \n",
    "\n",
    "Steps to using Estimator API:\n",
    "1. Define list of feature columns.\n",
    "2. Create the Estimator model. \n",
    "3. Create a data input function.\n",
    "4. Call train, evaluate, and predict on the Estimator object. \n",
    "\n"
   ]
  },
  {
   "cell_type": "markdown",
   "metadata": {},
   "source": [
    "### 1. Define list of feature columns"
   ]
  },
  {
   "cell_type": "code",
   "execution_count": 5,
   "metadata": {},
   "outputs": [
    {
     "data": {
      "text/plain": [
       "<matplotlib.collections.PathCollection at 0x7efba8a6e7f0>"
      ]
     },
     "execution_count": 5,
     "metadata": {},
     "output_type": "execute_result"
    },
    {
     "data": {
      "image/png": "[encoded data removed]",
      "text/plain": [
       "<matplotlib.figure.Figure at 0x7efbaa6e60f0>"
      ]
     },
     "metadata": {},
     "output_type": "display_data"
    }
   ],
   "source": [
    "X, y = make_regression(n_features=1, noise=2)\n",
    "fig = plt.figure(figsize=(12, 8))\n",
    "plt.scatter(X, y)"
   ]
  },
  {
   "cell_type": "code",
   "execution_count": 6,
   "metadata": {},
   "outputs": [],
   "source": [
    "# shape = 1 since we only have 1 feature\n",
    "feat_cols = [tf.feature_column.numeric_column(\"X\", shape=[1])]\n",
    "# create estimator, pass in the features"
   ]
  },
  {
   "cell_type": "markdown",
   "metadata": {},
   "source": [
    "### 2. Create Estimator"
   ]
  },
  {
   "cell_type": "code",
   "execution_count": 7,
   "metadata": {},
   "outputs": [
    {
     "name": "stdout",
     "output_type": "stream",
     "text": [
      "INFO:tensorflow:Using default config.\n",
      "WARNING:tensorflow:Using temporary folder as model directory: /tmp/tmpevbf55ce\n",
      "INFO:tensorflow:Using config: {'_model_dir': '/tmp/tmpevbf55ce', '_tf_random_seed': None, '_save_summary_steps': 100, '_save_checkpoints_steps': None, '_save_checkpoints_secs': 600, '_session_config': None, '_keep_checkpoint_max': 5, '_keep_checkpoint_every_n_hours': 10000, '_log_step_count_steps': 100, '_service': None, '_cluster_spec': <tensorflow.python.training.server_lib.ClusterSpec object at 0x7efbaabd8ba8>, '_task_type': 'worker', '_task_id': 0, '_global_id_in_cluster': 0, '_master': '', '_evaluation_master': '', '_is_chief': True, '_num_ps_replicas': 0, '_num_worker_replicas': 1}\n"
     ]
    }
   ],
   "source": [
    "estimator = tf.estimator.LinearRegressor(feature_columns=feat_cols)\n",
    "# ignore the warnings"
   ]
  },
  {
   "cell_type": "code",
   "execution_count": 8,
   "metadata": {},
   "outputs": [],
   "source": [
    "# create train and test set\n",
    "from sklearn.model_selection import train_test_split\n",
    "\n",
    "X_train, X_test, y_train, y_test = train_test_split(X, y.reshape(-1, 1), test_size=0.2)"
   ]
  },
  {
   "cell_type": "markdown",
   "metadata": {},
   "source": [
    "### 3. Create data input function"
   ]
  },
  {
   "cell_type": "code",
   "execution_count": 9,
   "metadata": {},
   "outputs": [],
   "source": [
    "input_function = tf.estimator.inputs.numpy_input_fn({\"X\": X.ravel()}, y, batch_size=4, shuffle=True, num_epochs=None)\n",
    "\n",
    "train_input_function = tf.estimator.inputs.numpy_input_fn({\"X\": X_train}, y_train.reshape(-1, 1), batch_size=8, \n",
    "                                                    num_epochs=None, shuffle=False)\n",
    "\n",
    "test_input_function = tf.estimator.inputs.numpy_input_fn({\"X\": X_test}, y_test.reshape(-1, 1), batch_size=8, \n",
    "                                                    num_epochs=None, shuffle=False)"
   ]
  },
  {
   "cell_type": "markdown",
   "metadata": {},
   "source": [
    "### 4. Train Estimator"
   ]
  },
  {
   "cell_type": "code",
   "execution_count": 10,
   "metadata": {},
   "outputs": [
    {
     "name": "stdout",
     "output_type": "stream",
     "text": [
      "INFO:tensorflow:Calling model_fn.\n",
      "INFO:tensorflow:Done calling model_fn.\n",
      "INFO:tensorflow:Create CheckpointSaverHook.\n",
      "INFO:tensorflow:Graph was finalized.\n",
      "INFO:tensorflow:Running local_init_op.\n",
      "INFO:tensorflow:Done running local_init_op.\n",
      "INFO:tensorflow:Saving checkpoints for 1 into /tmp/tmpevbf55ce/model.ckpt.\n",
      "INFO:tensorflow:loss = 32492.004, step = 1\n",
      "INFO:tensorflow:global_step/sec: 356.786\n",
      "INFO:tensorflow:loss = 28372.191, step = 101 (0.286 sec)\n",
      "INFO:tensorflow:global_step/sec: 410.94\n",
      "INFO:tensorflow:loss = 17810.11, step = 201 (0.241 sec)\n",
      "INFO:tensorflow:global_step/sec: 473.588\n",
      "INFO:tensorflow:loss = 23634.676, step = 301 (0.213 sec)\n",
      "INFO:tensorflow:global_step/sec: 475.631\n",
      "INFO:tensorflow:loss = 22925.46, step = 401 (0.210 sec)\n",
      "INFO:tensorflow:global_step/sec: 381.111\n",
      "INFO:tensorflow:loss = 35689.633, step = 501 (0.269 sec)\n",
      "INFO:tensorflow:global_step/sec: 341.871\n",
      "INFO:tensorflow:loss = 12368.4375, step = 601 (0.296 sec)\n",
      "INFO:tensorflow:global_step/sec: 374.349\n",
      "INFO:tensorflow:loss = 23559.09, step = 701 (0.257 sec)\n",
      "INFO:tensorflow:global_step/sec: 379.525\n",
      "INFO:tensorflow:loss = 8804.063, step = 801 (0.262 sec)\n",
      "INFO:tensorflow:global_step/sec: 390.375\n",
      "INFO:tensorflow:loss = 15016.509, step = 901 (0.256 sec)\n",
      "INFO:tensorflow:Saving checkpoints for 1000 into /tmp/tmpevbf55ce/model.ckpt.\n",
      "INFO:tensorflow:Loss for final step: 4406.3345.\n"
     ]
    },
    {
     "data": {
      "text/plain": [
       "<tensorflow.python.estimator.canned.linear.LinearRegressor at 0x7efbaabd8f98>"
      ]
     },
     "execution_count": 10,
     "metadata": {},
     "output_type": "execute_result"
    }
   ],
   "source": [
    "# steps is the maximum number of steps to take\n",
    "# while training\n",
    "estimator.train(input_fn=input_function, steps=1000)"
   ]
  },
  {
   "cell_type": "code",
   "execution_count": 11,
   "metadata": {},
   "outputs": [
    {
     "name": "stdout",
     "output_type": "stream",
     "text": [
      "INFO:tensorflow:Calling model_fn.\n",
      "INFO:tensorflow:Done calling model_fn.\n",
      "INFO:tensorflow:Starting evaluation at 2018-03-09-02:50:26\n",
      "INFO:tensorflow:Graph was finalized.\n",
      "INFO:tensorflow:Restoring parameters from /tmp/tmpevbf55ce/model.ckpt-1000\n",
      "INFO:tensorflow:Running local_init_op.\n",
      "INFO:tensorflow:Done running local_init_op.\n",
      "INFO:tensorflow:Evaluation [100/1000]\n",
      "INFO:tensorflow:Evaluation [200/1000]\n",
      "INFO:tensorflow:Evaluation [300/1000]\n",
      "INFO:tensorflow:Evaluation [400/1000]\n",
      "INFO:tensorflow:Evaluation [500/1000]\n",
      "INFO:tensorflow:Evaluation [600/1000]\n",
      "INFO:tensorflow:Evaluation [700/1000]\n",
      "INFO:tensorflow:Evaluation [800/1000]\n",
      "INFO:tensorflow:Evaluation [900/1000]\n",
      "INFO:tensorflow:Evaluation [1000/1000]\n",
      "INFO:tensorflow:Finished evaluation at 2018-03-09-02:50:29\n",
      "INFO:tensorflow:Saving dict for global step 1000: average_loss = 4250.3013, global_step = 1000, loss = 34002.41\n"
     ]
    }
   ],
   "source": [
    "train_metrics = estimator.evaluate(input_fn=train_input_function, steps=1000)"
   ]
  },
  {
   "cell_type": "code",
   "execution_count": 13,
   "metadata": {},
   "outputs": [
    {
     "data": {
      "text/plain": [
       "{'average_loss': 4250.3013, 'global_step': 1000, 'loss': 34002.41}"
      ]
     },
     "execution_count": 13,
     "metadata": {},
     "output_type": "execute_result"
    }
   ],
   "source": [
    "train_metrics"
   ]
  },
  {
   "cell_type": "code",
   "execution_count": 14,
   "metadata": {},
   "outputs": [
    {
     "name": "stdout",
     "output_type": "stream",
     "text": [
      "INFO:tensorflow:Calling model_fn.\n",
      "INFO:tensorflow:Done calling model_fn.\n",
      "INFO:tensorflow:Starting evaluation at 2018-03-09-02:51:10\n",
      "INFO:tensorflow:Graph was finalized.\n",
      "INFO:tensorflow:Restoring parameters from /tmp/tmpevbf55ce/model.ckpt-1000\n",
      "INFO:tensorflow:Running local_init_op.\n",
      "INFO:tensorflow:Done running local_init_op.\n",
      "INFO:tensorflow:Evaluation [100/1000]\n",
      "INFO:tensorflow:Evaluation [200/1000]\n",
      "INFO:tensorflow:Evaluation [300/1000]\n",
      "INFO:tensorflow:Evaluation [400/1000]\n",
      "INFO:tensorflow:Evaluation [500/1000]\n",
      "INFO:tensorflow:Evaluation [600/1000]\n",
      "INFO:tensorflow:Evaluation [700/1000]\n",
      "INFO:tensorflow:Evaluation [800/1000]\n",
      "INFO:tensorflow:Evaluation [900/1000]\n",
      "INFO:tensorflow:Evaluation [1000/1000]\n",
      "INFO:tensorflow:Finished evaluation at 2018-03-09-02:51:12\n",
      "INFO:tensorflow:Saving dict for global step 1000: average_loss = 2590.2996, global_step = 1000, loss = 20722.396\n"
     ]
    }
   ],
   "source": [
    "test_metrics = estimator.evaluate(input_fn=test_input_function, steps=1000)"
   ]
  },
  {
   "cell_type": "code",
   "execution_count": 15,
   "metadata": {},
   "outputs": [
    {
     "data": {
      "text/plain": [
       "{'average_loss': 2590.2996, 'global_step': 1000, 'loss': 20722.396}"
      ]
     },
     "execution_count": 15,
     "metadata": {},
     "output_type": "execute_result"
    }
   ],
   "source": [
    "test_metrics"
   ]
  },
  {
   "cell_type": "code",
   "execution_count": 24,
   "metadata": {},
   "outputs": [],
   "source": [
    "input_function_predict = tf.estimator.inputs.numpy_input_fn({\"X\": X}, shuffle=False)\n",
    "\n",
    "y_pred = estimator.predict(input_fn=input_function_predict)"
   ]
  },
  {
   "cell_type": "code",
   "execution_count": 25,
   "metadata": {},
   "outputs": [
    {
     "name": "stdout",
     "output_type": "stream",
     "text": [
      "INFO:tensorflow:Calling model_fn.\n",
      "INFO:tensorflow:Done calling model_fn.\n",
      "INFO:tensorflow:Graph was finalized.\n",
      "INFO:tensorflow:Restoring parameters from /tmp/tmpevbf55ce/model.ckpt-1000\n",
      "INFO:tensorflow:Running local_init_op.\n",
      "INFO:tensorflow:Done running local_init_op.\n"
     ]
    },
    {
     "data": {
      "text/plain": [
       "[<matplotlib.lines.Line2D at 0x7efb9a9c6e80>]"
      ]
     },
     "execution_count": 25,
     "metadata": {},
     "output_type": "execute_result"
    },
    {
     "data": {
      "image/png": "[encoded data removed]",
      "text/plain": [
       "<matplotlib.figure.Figure at 0x7efb9a727f28>"
      ]
     },
     "metadata": {},
     "output_type": "display_data"
    }
   ],
   "source": [
    "plt.scatter(X, y)\n",
    "plt.plot(X, np.array(list(y_pred)))"
   ]
  },
  {
   "cell_type": "code",
   "execution_count": 23,
   "metadata": {},
   "outputs": [
    {
     "data": {
      "text/plain": [
       "array([], dtype=float64)"
      ]
     },
     "execution_count": 23,
     "metadata": {},
     "output_type": "execute_result"
    }
   ],
   "source": [
    "np.array(list(y_pred))"
   ]
  },
  {
   "cell_type": "code",
   "execution_count": null,
   "metadata": {},
   "outputs": [],
   "source": [
    "# Fix me"
   ]
  }
 ],
 "metadata": {
  "kernelspec": {
   "display_name": "Python 3",
   "language": "python",
   "name": "python3"
  },
  "language_info": {
   "codemirror_mode": {
    "name": "ipython",
    "version": 3
   },
   "file_extension": ".py",
   "mimetype": "text/x-python",
   "name": "python",
   "nbconvert_exporter": "python",
   "pygments_lexer": "ipython3",
   "version": "3.6.3"
  }
 },
 "nbformat": 4,
 "nbformat_minor": 2
}
