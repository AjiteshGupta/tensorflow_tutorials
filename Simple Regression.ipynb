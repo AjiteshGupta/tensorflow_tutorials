{
 "cells": [
  {
   "cell_type": "code",
   "execution_count": 14,
   "metadata": {},
   "outputs": [],
   "source": [
    "import numpy as np\n",
    "import tensorflow as tf\n"
   ]
  },
  {
   "cell_type": "code",
   "execution_count": 15,
   "metadata": {},
   "outputs": [
    {
     "name": "stdout",
     "output_type": "stream",
     "text": [
      "[[0.13361934]\n",
      " [0.99996436]\n",
      " [0.00212464]\n",
      " [0.0017552 ]\n",
      " [0.971019  ]\n",
      " [0.08417981]\n",
      " [0.9392672 ]\n",
      " [0.9674846 ]\n",
      " [0.9325501 ]\n",
      " [0.74627805]]\n"
     ]
    }
   ],
   "source": [
    "with tf.Session() as sess:\n",
    "    sess.run(init)\n",
    "    print(sess.run(y_pred))"
   ]
  },
  {
   "cell_type": "code",
   "execution_count": 49,
   "metadata": {},
   "outputs": [
    {
     "data": {
      "image/png": "[encoded data removed]",
      "text/plain": [
       "<matplotlib.figure.Figure at 0x7fcdba1fba58>"
      ]
     },
     "metadata": {},
     "output_type": "display_data"
    }
   ],
   "source": [
    "from sklearn.datasets import make_regression\n",
    "import matplotlib.pyplot as plt\n",
    "\n",
    "X, y = make_regression(n_features=1, noise=10)\n",
    "plt.scatter(X, y)\n",
    "X_train = np.hstack((np.ones((X.shape[0], 1)), X))"
   ]
  },
  {
   "cell_type": "code",
   "execution_count": 52,
   "metadata": {},
   "outputs": [],
   "source": [
    "n_features = 1\n",
    "n_samples = X_train.shape[0]\n",
    "X_inp = tf.placeholder(dtype=tf.float32, shape=(n_samples, 2))\n",
    "weights = tf.Variable(tf.random_normal((1, 2)))\n",
    "y_pred = tf.matmul(weights, tf.transpose(X_inp))\n",
    "init = tf.global_variables_initializer()    "
   ]
  },
  {
   "cell_type": "code",
   "execution_count": 54,
   "metadata": {},
   "outputs": [
    {
     "name": "stdout",
     "output_type": "stream",
     "text": [
      "[[ 0.09592479  0.12093362  0.12509772 -0.9188811  -0.44760588 -0.00446111\n",
      "  -0.00816494  0.6437078  -0.00666279 -0.18807733 -0.07643482 -0.5452506\n",
      "  -0.9342407  -0.70132697 -0.59254813 -0.26681036 -0.20812818 -0.62566835\n",
      "  -0.02232212 -0.18599504 -0.0589482  -0.52933866 -0.5957675  -0.48415312\n",
      "  -0.24499878 -1.017307   -0.19446728 -0.76073086 -1.1313429  -0.05905153\n",
      "   0.16658184 -0.1700532  -0.30095428  0.17404306 -0.01450482 -0.90213233\n",
      "  -0.5877538  -0.22804046  0.00169399 -0.12886097 -0.264571    0.4821456\n",
      "  -0.3263604  -0.33477253 -0.30807996  0.1710808  -0.6850959  -0.7397281\n",
      "   0.06164315  0.51246107 -0.36946136  0.20224226 -0.7029417  -0.20169535\n",
      "   0.6206565   0.3612665   0.09631053 -0.44379485 -0.26643112 -0.6184015\n",
      "  -0.3404581  -0.51704514 -0.80551386 -0.41912615 -0.40473545 -0.07197879\n",
      "  -0.13113901 -0.34864175 -0.5026947  -0.85630465 -0.80501235 -0.6527083\n",
      "  -0.33098873 -0.08172549 -0.42233098  0.41643637 -0.1778085   0.3268972\n",
      "  -0.24678606 -0.1381802  -0.05166909 -0.13444363 -0.14719771 -0.39231917\n",
      "  -0.4563992  -0.19758862 -0.27380872 -0.0107958  -0.46950328 -0.38263565\n",
      "  -0.4159836  -0.0448097   0.15029529 -1.0156652   0.18401268 -0.33167616\n",
      "  -0.42256802  0.03131095 -0.0762253  -0.93572575]]\n"
     ]
    }
   ],
   "source": [
    "with tf.Session() as sess:\n",
    "    sess.run(init)\n",
    "    res = sess.run(y_pred, feed_dict={X_inp: X_train})\n",
    "    print(res)"
   ]
  },
  {
   "cell_type": "code",
   "execution_count": 56,
   "metadata": {},
   "outputs": [
    {
     "ename": "ValueError",
     "evalue": "Cannot evaluate tensor using `eval()`: No default session is registered. Use `with sess.as_default()` or pass an explicit session to `eval(session=sess)`",
     "output_type": "error",
     "traceback": [
      "\u001b[0;31m---------------------------------------------------------------------------\u001b[0m",
      "\u001b[0;31mValueError\u001b[0m                                Traceback (most recent call last)",
      "\u001b[0;32m<ipython-input-56-d27a66d94912>\u001b[0m in \u001b[0;36m<module>\u001b[0;34m()\u001b[0m\n\u001b[0;32m----> 1\u001b[0;31m \u001b[0my_pred\u001b[0m\u001b[0;34m.\u001b[0m\u001b[0meval\u001b[0m\u001b[0;34m(\u001b[0m\u001b[0;34m)\u001b[0m\u001b[0;34m\u001b[0m\u001b[0m\n\u001b[0m",
      "\u001b[0;32m~/anaconda3/lib/python3.6/site-packages/tensorflow/python/framework/ops.py\u001b[0m in \u001b[0;36meval\u001b[0;34m(self, feed_dict, session)\u001b[0m\n\u001b[1;32m    567\u001b[0m \u001b[0;34m\u001b[0m\u001b[0m\n\u001b[1;32m    568\u001b[0m   \u001b[0;32mdef\u001b[0m \u001b[0m__repr__\u001b[0m\u001b[0;34m(\u001b[0m\u001b[0mself\u001b[0m\u001b[0;34m)\u001b[0m\u001b[0;34m:\u001b[0m\u001b[0;34m\u001b[0m\u001b[0m\n\u001b[0;32m--> 569\u001b[0;31m     return \"<tf.Tensor '%s' shape=%s dtype=%s>\" % (self.name, self.get_shape(),\n\u001b[0m\u001b[1;32m    570\u001b[0m                                                    self._dtype.name)\n\u001b[1;32m    571\u001b[0m \u001b[0;34m\u001b[0m\u001b[0m\n",
      "\u001b[0;32m~/anaconda3/lib/python3.6/site-packages/tensorflow/python/framework/ops.py\u001b[0m in \u001b[0;36m_eval_using_default_session\u001b[0;34m(tensors, feed_dict, graph, session)\u001b[0m\n\u001b[1;32m   3725\u001b[0m \u001b[0;34m\u001b[0m\u001b[0m\n\u001b[1;32m   3726\u001b[0m     \u001b[0mNote\u001b[0m \u001b[0mthat\u001b[0m \u001b[0mcollections\u001b[0m \u001b[0mare\u001b[0m \u001b[0;32mnot\u001b[0m \u001b[0msets\u001b[0m\u001b[0;34m,\u001b[0m \u001b[0mso\u001b[0m \u001b[0mit\u001b[0m \u001b[0;32mis\u001b[0m \u001b[0mpossible\u001b[0m \u001b[0mto\u001b[0m \u001b[0madd\u001b[0m \u001b[0ma\u001b[0m \u001b[0mvalue\u001b[0m \u001b[0mto\u001b[0m\u001b[0;34m\u001b[0m\u001b[0m\n\u001b[0;32m-> 3727\u001b[0;31m     \u001b[0ma\u001b[0m \u001b[0mcollection\u001b[0m \u001b[0mseveral\u001b[0m \u001b[0mtimes\u001b[0m\u001b[0;34m.\u001b[0m \u001b[0mThis\u001b[0m \u001b[0mfunction\u001b[0m \u001b[0mmakes\u001b[0m \u001b[0msure\u001b[0m \u001b[0mthat\u001b[0m \u001b[0mduplicates\u001b[0m \u001b[0;32min\u001b[0m\u001b[0;34m\u001b[0m\u001b[0m\n\u001b[0m\u001b[1;32m   3728\u001b[0m     \u001b[0;31m`\u001b[0m\u001b[0mnames\u001b[0m\u001b[0;31m`\u001b[0m \u001b[0mare\u001b[0m \u001b[0mignored\u001b[0m\u001b[0;34m,\u001b[0m \u001b[0mbut\u001b[0m \u001b[0mit\u001b[0m \u001b[0mwill\u001b[0m \u001b[0;32mnot\u001b[0m \u001b[0mcheck\u001b[0m \u001b[0;32mfor\u001b[0m \u001b[0mpre\u001b[0m\u001b[0;34m-\u001b[0m\u001b[0mexisting\u001b[0m \u001b[0mmembership\u001b[0m \u001b[0mof\u001b[0m\u001b[0;34m\u001b[0m\u001b[0m\n\u001b[1;32m   3729\u001b[0m     \u001b[0;31m`\u001b[0m\u001b[0mvalue\u001b[0m\u001b[0;31m`\u001b[0m \u001b[0;32min\u001b[0m \u001b[0many\u001b[0m \u001b[0mof\u001b[0m \u001b[0mthe\u001b[0m \u001b[0mcollections\u001b[0m \u001b[0;32min\u001b[0m\u001b[0;31m \u001b[0m\u001b[0;31m`\u001b[0m\u001b[0mnames\u001b[0m\u001b[0;31m`\u001b[0m\u001b[0;34m.\u001b[0m\u001b[0;34m\u001b[0m\u001b[0m\n",
      "\u001b[0;31mValueError\u001b[0m: Cannot evaluate tensor using `eval()`: No default session is registered. Use `with sess.as_default()` or pass an explicit session to `eval(session=sess)`"
     ]
    }
   ],
   "source": []
  },
  {
   "cell_type": "code",
   "execution_count": null,
   "metadata": {},
   "outputs": [],
   "source": []
  }
 ],
 "metadata": {
  "kernelspec": {
   "display_name": "Python 3",
   "language": "python",
   "name": "python3"
  },
  "language_info": {
   "codemirror_mode": {
    "name": "ipython",
    "version": 3
   },
   "file_extension": ".py",
   "mimetype": "text/x-python",
   "name": "python",
   "nbconvert_exporter": "python",
   "pygments_lexer": "ipython3",
   "version": "3.6.4"
  }
 },
 "nbformat": 4,
 "nbformat_minor": 2
}
