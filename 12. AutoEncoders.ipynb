{
 "cells": [
  {
   "cell_type": "code",
   "execution_count": 0,
   "metadata": {
    "colab": {
     "autoexec": {
      "startup": false,
      "wait_interval": 0
     }
    },
    "colab_type": "code",
    "id": "0z2ORbKFgsLJ"
   },
   "outputs": [],
   "source": [
    "import tensorflow as tf\n",
    "import numpy as np\n",
    "import matplotlib.pyplot as plt\n",
    "%matplotlib inline\n",
    "\n",
    "from tensorflow.examples.tutorials.mnist import input_data"
   ]
  },
  {
   "cell_type": "code",
   "execution_count": 2,
   "metadata": {
    "colab": {
     "autoexec": {
      "startup": false,
      "wait_interval": 0
     },
     "base_uri": "https://localhost:8080/",
     "height": 156,
     "output_extras": [
      {
       "item_id": 2
      }
     ]
    },
    "colab_type": "code",
    "executionInfo": {
     "elapsed": 1311,
     "status": "ok",
     "timestamp": 1521467319470,
     "user": {
      "displayName": "Mayur Kulkarni",
      "photoUrl": "https://lh3.googleusercontent.com/a/default-user=s128",
      "userId": "116301151646646358552"
     },
     "user_tz": -330
    },
    "id": "oI2r1aeagsLw",
    "outputId": "5895f661-cc62-4775-bf11-d9e0efc2966e"
   },
   "outputs": [
    {
     "name": "stdout",
     "output_type": "stream",
     "text": [
      "Successfully downloaded train-images-idx3-ubyte.gz 9912422 bytes.\n",
      "Extracting ./train-images-idx3-ubyte.gz\n",
      "Successfully downloaded train-labels-idx1-ubyte.gz 28881 bytes.\n",
      "Extracting ./train-labels-idx1-ubyte.gz\n",
      "Successfully downloaded t10k-images-idx3-ubyte.gz 1648877 bytes.\n",
      "Extracting ./t10k-images-idx3-ubyte.gz\n",
      "Successfully downloaded t10k-labels-idx1-ubyte.gz 4542 bytes.\n",
      "Extracting ./t10k-labels-idx1-ubyte.gz\n"
     ]
    }
   ],
   "source": [
    "mnist = input_data.read_data_sets(\".\", one_hot=True)"
   ]
  },
  {
   "cell_type": "code",
   "execution_count": 3,
   "metadata": {
    "colab": {
     "autoexec": {
      "startup": false,
      "wait_interval": 0
     },
     "base_uri": "https://localhost:8080/",
     "height": 282,
     "output_extras": [
      {
       "item_id": 1
      },
      {
       "item_id": 2
      }
     ]
    },
    "colab_type": "code",
    "executionInfo": {
     "elapsed": 849,
     "status": "ok",
     "timestamp": 1521467320531,
     "user": {
      "displayName": "Mayur Kulkarni",
      "photoUrl": "https://lh3.googleusercontent.com/a/default-user=s128",
      "userId": "116301151646646358552"
     },
     "user_tz": -330
    },
    "id": "tpQ_Mao9gsMY",
    "outputId": "6038c522-fbb0-4ff1-de0e-4a8709debac3"
   },
   "outputs": [
    {
     "data": {
      "text/plain": [
       "<matplotlib.image.AxesImage at 0x7f7e4c38f588>"
      ]
     },
     "execution_count": 3,
     "metadata": {
      "tags": []
     },
     "output_type": "execute_result"
    },
    {
     "data": {
      "image/png": "[encoded data removed]",
      "text/plain": [
       "<matplotlib.figure.Figure at 0x7f7e90c485f8>"
      ]
     },
     "metadata": {
      "tags": []
     },
     "output_type": "display_data"
    }
   ],
   "source": [
    "# show a random image from MNIST dataset\n",
    "plt.imshow(mnist.train.next_batch(1)[0].reshape(28, 28), cmap=\"gist_gray\")"
   ]
  },
  {
   "cell_type": "code",
   "execution_count": 0,
   "metadata": {
    "colab": {
     "autoexec": {
      "startup": false,
      "wait_interval": 0
     }
    },
    "colab_type": "code",
    "id": "YWHM2wJYgsM4"
   },
   "outputs": [],
   "source": [
    "class AutoEncoder:\n",
    "    \"\"\"Creates an AutoEncoder for compressing MNIST\n",
    "    dataset\n",
    "    \n",
    "    Architecture\n",
    "    ------------\n",
    "    Image (28x28) -- Input Layer(1x784) -- Dense Layer(784x100) -- Output Layer(100x784)\n",
    "    Loss Function: Mean Squared Error\n",
    "    Optimizer: Adam Optimizer\n",
    "    \"\"\"\n",
    "    def __init__(self)\n",
    "        self.num_input = 28*28\n",
    "        self.num_hidden_1 = 100\n",
    "        self.num_output = num_input\n",
    "        self.X = tf.placeholder(tf.float32, shape=[None, num_input])\n",
    "    \n",
    "    def forward_pass(self):\n",
    "        \"\"\" Make a forward pass in the Neural Network\"\"\"\n",
    "        W1 = tf.Variable(initial_value=tf\n",
    "                         .truncated_normal([num_input, num_hidden_1]))\n",
    "        W2 = tf.transpose(W1)\n",
    "        b1 = tf.Variable(initial_value=tf.random_normal([num_hidden_1]))\n",
    "        b2 = tf.Variable(initial_value=tf.random_normal([num_output]))\n",
    "        \n",
    "        hidden_output = tf.matmul(X, W1) + b1\n",
    "        final_output = tf.matmul(hidden_output, W2) + b2\n",
    "        return final_output\n",
    "    \n",
    "    def train(self):\n",
    "        \"\"\"Trains the Network\"\"\"\n",
    "        y_pred = self.forward_pass()\n",
    "        error = tf.losses.mean_squared_error(labels=self.X, \n",
    "                                             predictions=final_output)\n",
    "        optimizer = tf.train.AdamOptimizer(learning_rate=0.01)\n",
    "        train = optimizer.minimize(error)\n",
    "        init = tf.global_variables_initializer()\n",
    "        \n",
    "        with tf.Session() as sess:\n",
    "            sess.run(init)\n",
    "            for i in range(20000):\n",
    "                X_batch, y_batch = mnist.train.next_batch(50)\n",
    "                sess.run(train, feed_dict={X: X_batch})\n",
    "                loss = sess.run(error, feed_dict={X: X_batch})\n",
    "                if i % 2000 == 0:\n",
    "                    print(\"Iteration: {} Loss {}\".format(i, loss))\n",
    "            X_batch = mnist.test.next_batch(1)[0]\n",
    "            plt.imshow(X_batch.reshape(28, 28), cmap=\"gist_gray\")\n",
    "            plt.show()\n",
    "            plt.imshow(sess.run(final_output,\n",
    "                                feed_dict={X: X_batch}).reshape(28, 28),\n",
    "                                cmap=\"gist_gray\")\n",
    "            plt.show()"
   ]
  }
 ],
 "metadata": {
  "accelerator": "GPU",
  "colab": {
   "default_view": {},
   "name": "12. AutoEncoders.ipynb",
   "provenance": [],
   "version": "0.3.2",
   "views": {}
  },
  "kernelspec": {
   "display_name": "Python 3",
   "language": "python",
   "name": "python3"
  },
  "language_info": {
   "codemirror_mode": {
    "name": "ipython",
    "version": 3
   },
   "file_extension": ".py",
   "mimetype": "text/x-python",
   "name": "python",
   "nbconvert_exporter": "python",
   "pygments_lexer": "ipython3",
   "version": "3.6.3"
  }
 },
 "nbformat": 4,
 "nbformat_minor": 1
}
