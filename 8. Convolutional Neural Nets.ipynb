{
 "cells": [
  {
   "cell_type": "code",
   "execution_count": 10,
   "metadata": {},
   "outputs": [],
   "source": [
    "import numpy as np\n",
    "import pandas as pd\n",
    "import tensorflow as tf\n",
    "import matplotlib.pyplot as plt\n",
    "from time import time\n",
    "from tensorflow.examples.tutorials.mnist import input_data\n",
    "%matplotlib inline"
   ]
  },
  {
   "cell_type": "code",
   "execution_count": 3,
   "metadata": {},
   "outputs": [
    {
     "name": "stdout",
     "output_type": "stream",
     "text": [
      "Extracting datasets/MNIST_data/train-images-idx3-ubyte.gz\n",
      "Extracting datasets/MNIST_data/train-labels-idx1-ubyte.gz\n",
      "Extracting datasets/MNIST_data/t10k-images-idx3-ubyte.gz\n",
      "Extracting datasets/MNIST_data/t10k-labels-idx1-ubyte.gz\n"
     ]
    }
   ],
   "source": [
    "mnist = input_data.read_data_sets(\"datasets/MNIST_data/\", one_hot=True)"
   ]
  },
  {
   "cell_type": "code",
   "execution_count": 11,
   "metadata": {},
   "outputs": [],
   "source": [
    "class ConvolutionalNeuralNetwork:\n",
    "    def __init__(self):\n",
    "        \"\"\"\n",
    "        Parameters\n",
    "        ----------\n",
    "        X : Input tensor with dimensions: \n",
    "            [batch, height, width, channels]\n",
    "        \"\"\"\n",
    "        self.X = tf.placeholder(tf.float32, shape=[None, 784])\n",
    "        self.y = tf.placeholder(tf.float32, shape=[None, 10])\n",
    "        self.dropout_prob = tf.placeholder(tf.float32)\n",
    "    \n",
    "    def init_weights_and_bias(self, weights_shape, bias_shape):\n",
    "        rand_dist = tf.truncated_normal(weights_shape, stddev=0.1)\n",
    "        W = tf.Variable(rand_dist)\n",
    "        consts = tf.constant(0.1, shape=bias_shape)\n",
    "        b = tf.Variable(consts)\n",
    "        return W, b\n",
    "        \n",
    "    def conv2d(self, X, kernel):\n",
    "        \"\"\"Performs 2D convolution\n",
    "        \n",
    "        Parameters\n",
    "        ----------\n",
    "        kernel : Kernel tensor with dimensions:\n",
    "            [filter height, filter width, channels in, \n",
    "                channels out]\n",
    "        \"\"\"\n",
    "        # strides indicate the step of CNN to move in \n",
    "        # either direction or the number of steps to \n",
    "        # take in every dimension\n",
    "        strides = [1, 1, 1, 1]\n",
    "        return tf.nn.conv2d(X, kernel, strides, padding=\"SAME\")\n",
    "    \n",
    "    def max_pooling(self, X):\n",
    "        \"\"\"Performs 2x2 Max Pooling\"\"\"\n",
    "        # ksize is the size of the window for \n",
    "        # each dimension of the inpuy since we are \n",
    "        # performing 2x2 pooling and our dimensions \n",
    "        # are [batch, height, width, channels] we\n",
    "        # need 2 for height and width\n",
    "        ksize = [1, 2, 2, 1]\n",
    "        \n",
    "        # same holds for strides, the only \n",
    "        # difference is strides is the step. Since we are\n",
    "        # taking 2x2 pooling we need to increment our\n",
    "        # step by 2 after every max pooling step.\n",
    "        strides = [1, 2, 2, 1]\n",
    "        return tf.nn.max_pool(X, ksize=ksize, strides=strides,\n",
    "                              padding=\"SAME\")\n",
    "        \n",
    "    def convolution_layer(self, X, shape):\n",
    "        W, b = self.init_weights_and_bias(weights_shape=shape,\n",
    "                                          bias_shape=[shape[3]])\n",
    "        return tf.nn.relu(self.conv2d(X, W) + b)\n",
    "    \n",
    "    def dense_layer(self, input_layer, size):\n",
    "        input_layer_size = int(input_layer.get_shape()[1])\n",
    "        W, b = self.init_weights_and_bias(weights_shape=\n",
    "                                          [input_layer_size, size],\n",
    "                                          bias_shape=[size])\n",
    "        return tf.matmul(input_layer, W) + b\n",
    "        \n",
    "    def forward_pass(self):\n",
    "        # Reshape the image (None, 784) back to (-1, 28, 28, 1)\n",
    "        X_image = tf.reshape(self.X, (-1, 28, 28, 1))\n",
    "        \n",
    "        ################### Layer 1 (CNN) ###########################\n",
    "        \n",
    "        cnn_layer_1 = self.convolution_layer(X_image, shape=[5, 5, 1, 32])\n",
    "        cnn_layer_1_pooled = self.max_pooling(cnn_layer_1)\n",
    "        \n",
    "        ################### Layer 2 (CNN) ###########################\n",
    "        \n",
    "        cnn_layer_2 = self.convolution_layer(cnn_layer_1_pooled, \n",
    "                                             shape=[5, 5, 32, 64])\n",
    "        cnn_layer_2_pooled = self.max_pooling(cnn_layer_2)\n",
    "        \n",
    "        ################### Layer 3 (Dense) ##########################\n",
    "        \n",
    "        cnn_layer_2_flat = tf.reshape(cnn_layer_2_pooled, (-1, 7*7*64))\n",
    "        dense_layer_1 = tf.nn.relu(self.dense_layer(cnn_layer_2_flat, 1024))\n",
    "        \n",
    "        ######################## Dropout #############################\n",
    "        \n",
    "        dense_layer_1_drop = tf.nn.dropout(dense_layer_1, \n",
    "                                           keep_prob=self.dropout_prob)\n",
    "        \n",
    "        ######################## Predict #############################\n",
    "        \n",
    "        return self.dense_layer(dense_layer_1_drop, 10)\n",
    "    \n",
    "    def train(self):\n",
    "        y_pred = self.forward_pass()\n",
    "        cross_entropy_loss = tf.reduce_mean(\n",
    "            tf.nn.softmax_cross_entropy_with_logits(labels=self.y,\n",
    "                                                    logits=y_pred))\n",
    "        optimizer = tf.train.AdamOptimizer(learning_rate=0.001)\n",
    "        train_cnn = optimizer.minimize(cross_entropy_loss)\n",
    "        init = tf.global_variables_initializer()\n",
    "        steps = 500\n",
    "        \n",
    "        with tf.Session() as sess:\n",
    "            sess.run(init)\n",
    "            for step in range(steps):\n",
    "                start_time = time()\n",
    "                X_batch, y_batch = mnist.train.next_batch(50)\n",
    "                sess.run(train_cnn, feed_dict={self.X: X_batch, self.y: y_batch,\n",
    "                                               self.dropout_prob: 0.5})\n",
    "                matches = tf.equal(tf.argmax(y_pred, 1), tf.argmax(self.y, 1))\n",
    "                accuracy = tf.reduce_mean(tf.cast(matches, tf.float32))\n",
    "                result = sess.run(accuracy, feed_dict={self.X: mnist.test.images, \n",
    "                                                       self.y: mnist.test.labels,\n",
    "                                                       self.dropout_prob: 1.0})\n",
    "                print(\"Step: {0} Accuracy: {1:.2f}% Time: {2: .2f} secs\"\n",
    "                          .format(step, result * 100, time() - start_time))"
   ]
  },
  {
   "cell_type": "code",
   "execution_count": 12,
   "metadata": {},
   "outputs": [
    {
     "name": "stdout",
     "output_type": "stream",
     "text": [
      "Step: 0 Accuracy: 10.200% Time: 24.152716875076294 secs\n",
      "Step: 1 Accuracy: 21.490% Time: 27.138320207595825 secs\n",
      "Step: 2 Accuracy: 14.680% Time: 36.10055637359619 secs\n"
     ]
    },
    {
     "ename": "KeyboardInterrupt",
     "evalue": "",
     "output_type": "error",
     "traceback": [
      "\u001b[0;31m---------------------------------------------------------------------------\u001b[0m",
      "\u001b[0;31mKeyboardInterrupt\u001b[0m                         Traceback (most recent call last)",
      "\u001b[0;32m<ipython-input-12-51b91074adc8>\u001b[0m in \u001b[0;36m<module>\u001b[0;34m()\u001b[0m\n\u001b[0;32m----> 1\u001b[0;31m \u001b[0mConvolutionalNeuralNetwork\u001b[0m\u001b[0;34m(\u001b[0m\u001b[0;34m)\u001b[0m\u001b[0;34m.\u001b[0m\u001b[0mtrain\u001b[0m\u001b[0;34m(\u001b[0m\u001b[0;34m)\u001b[0m\u001b[0;34m\u001b[0m\u001b[0m\n\u001b[0m",
      "\u001b[0;32m<ipython-input-11-2cc3e7ffa618>\u001b[0m in \u001b[0;36mtrain\u001b[0;34m(self)\u001b[0m\n\u001b[1;32m    112\u001b[0m                 result = sess.run(accuracy, feed_dict={self.X: mnist.test.images, \n\u001b[1;32m    113\u001b[0m                                                        \u001b[0mself\u001b[0m\u001b[0;34m.\u001b[0m\u001b[0my\u001b[0m\u001b[0;34m:\u001b[0m \u001b[0mmnist\u001b[0m\u001b[0;34m.\u001b[0m\u001b[0mtest\u001b[0m\u001b[0;34m.\u001b[0m\u001b[0mlabels\u001b[0m\u001b[0;34m,\u001b[0m\u001b[0;34m\u001b[0m\u001b[0m\n\u001b[0;32m--> 114\u001b[0;31m                                                        self.dropout_prob: 1.0})\n\u001b[0m\u001b[1;32m    115\u001b[0m                 print(\"Step: {0} Accuracy: {1:.3f}% Time: {2} secs\"\n\u001b[1;32m    116\u001b[0m                           .format(step, result * 100, time() - start_time))\n",
      "\u001b[0;32m~/anaconda3/lib/python3.6/site-packages/tensorflow/python/client/session.py\u001b[0m in \u001b[0;36mrun\u001b[0;34m(self, fetches, feed_dict, options, run_metadata)\u001b[0m\n\u001b[1;32m    903\u001b[0m     \u001b[0;32mtry\u001b[0m\u001b[0;34m:\u001b[0m\u001b[0;34m\u001b[0m\u001b[0m\n\u001b[1;32m    904\u001b[0m       result = self._run(None, fetches, feed_dict, options_ptr,\n\u001b[0;32m--> 905\u001b[0;31m                          run_metadata_ptr)\n\u001b[0m\u001b[1;32m    906\u001b[0m       \u001b[0;32mif\u001b[0m \u001b[0mrun_metadata\u001b[0m\u001b[0;34m:\u001b[0m\u001b[0;34m\u001b[0m\u001b[0m\n\u001b[1;32m    907\u001b[0m         \u001b[0mproto_data\u001b[0m \u001b[0;34m=\u001b[0m \u001b[0mtf_session\u001b[0m\u001b[0;34m.\u001b[0m\u001b[0mTF_GetBuffer\u001b[0m\u001b[0;34m(\u001b[0m\u001b[0mrun_metadata_ptr\u001b[0m\u001b[0;34m)\u001b[0m\u001b[0;34m\u001b[0m\u001b[0m\n",
      "\u001b[0;32m~/anaconda3/lib/python3.6/site-packages/tensorflow/python/client/session.py\u001b[0m in \u001b[0;36m_run\u001b[0;34m(self, handle, fetches, feed_dict, options, run_metadata)\u001b[0m\n\u001b[1;32m   1135\u001b[0m     \u001b[0;32mif\u001b[0m \u001b[0mfinal_fetches\u001b[0m \u001b[0;32mor\u001b[0m \u001b[0mfinal_targets\u001b[0m \u001b[0;32mor\u001b[0m \u001b[0;34m(\u001b[0m\u001b[0mhandle\u001b[0m \u001b[0;32mand\u001b[0m \u001b[0mfeed_dict_tensor\u001b[0m\u001b[0;34m)\u001b[0m\u001b[0;34m:\u001b[0m\u001b[0;34m\u001b[0m\u001b[0m\n\u001b[1;32m   1136\u001b[0m       results = self._do_run(handle, final_targets, final_fetches,\n\u001b[0;32m-> 1137\u001b[0;31m                              feed_dict_tensor, options, run_metadata)\n\u001b[0m\u001b[1;32m   1138\u001b[0m     \u001b[0;32melse\u001b[0m\u001b[0;34m:\u001b[0m\u001b[0;34m\u001b[0m\u001b[0m\n\u001b[1;32m   1139\u001b[0m       \u001b[0mresults\u001b[0m \u001b[0;34m=\u001b[0m \u001b[0;34m[\u001b[0m\u001b[0;34m]\u001b[0m\u001b[0;34m\u001b[0m\u001b[0m\n",
      "\u001b[0;32m~/anaconda3/lib/python3.6/site-packages/tensorflow/python/client/session.py\u001b[0m in \u001b[0;36m_do_run\u001b[0;34m(self, handle, target_list, fetch_list, feed_dict, options, run_metadata)\u001b[0m\n\u001b[1;32m   1353\u001b[0m     \u001b[0;32mif\u001b[0m \u001b[0mhandle\u001b[0m \u001b[0;32mis\u001b[0m \u001b[0;32mNone\u001b[0m\u001b[0;34m:\u001b[0m\u001b[0;34m\u001b[0m\u001b[0m\n\u001b[1;32m   1354\u001b[0m       return self._do_call(_run_fn, self._session, feeds, fetches, targets,\n\u001b[0;32m-> 1355\u001b[0;31m                            options, run_metadata)\n\u001b[0m\u001b[1;32m   1356\u001b[0m     \u001b[0;32melse\u001b[0m\u001b[0;34m:\u001b[0m\u001b[0;34m\u001b[0m\u001b[0m\n\u001b[1;32m   1357\u001b[0m       \u001b[0;32mreturn\u001b[0m \u001b[0mself\u001b[0m\u001b[0;34m.\u001b[0m\u001b[0m_do_call\u001b[0m\u001b[0;34m(\u001b[0m\u001b[0m_prun_fn\u001b[0m\u001b[0;34m,\u001b[0m \u001b[0mself\u001b[0m\u001b[0;34m.\u001b[0m\u001b[0m_session\u001b[0m\u001b[0;34m,\u001b[0m \u001b[0mhandle\u001b[0m\u001b[0;34m,\u001b[0m \u001b[0mfeeds\u001b[0m\u001b[0;34m,\u001b[0m \u001b[0mfetches\u001b[0m\u001b[0;34m)\u001b[0m\u001b[0;34m\u001b[0m\u001b[0m\n",
      "\u001b[0;32m~/anaconda3/lib/python3.6/site-packages/tensorflow/python/client/session.py\u001b[0m in \u001b[0;36m_do_call\u001b[0;34m(self, fn, *args)\u001b[0m\n\u001b[1;32m   1359\u001b[0m   \u001b[0;32mdef\u001b[0m \u001b[0m_do_call\u001b[0m\u001b[0;34m(\u001b[0m\u001b[0mself\u001b[0m\u001b[0;34m,\u001b[0m \u001b[0mfn\u001b[0m\u001b[0;34m,\u001b[0m \u001b[0;34m*\u001b[0m\u001b[0margs\u001b[0m\u001b[0;34m)\u001b[0m\u001b[0;34m:\u001b[0m\u001b[0;34m\u001b[0m\u001b[0m\n\u001b[1;32m   1360\u001b[0m     \u001b[0;32mtry\u001b[0m\u001b[0;34m:\u001b[0m\u001b[0;34m\u001b[0m\u001b[0m\n\u001b[0;32m-> 1361\u001b[0;31m       \u001b[0;32mreturn\u001b[0m \u001b[0mfn\u001b[0m\u001b[0;34m(\u001b[0m\u001b[0;34m*\u001b[0m\u001b[0margs\u001b[0m\u001b[0;34m)\u001b[0m\u001b[0;34m\u001b[0m\u001b[0m\n\u001b[0m\u001b[1;32m   1362\u001b[0m     \u001b[0;32mexcept\u001b[0m \u001b[0merrors\u001b[0m\u001b[0;34m.\u001b[0m\u001b[0mOpError\u001b[0m \u001b[0;32mas\u001b[0m \u001b[0me\u001b[0m\u001b[0;34m:\u001b[0m\u001b[0;34m\u001b[0m\u001b[0m\n\u001b[1;32m   1363\u001b[0m       \u001b[0mmessage\u001b[0m \u001b[0;34m=\u001b[0m \u001b[0mcompat\u001b[0m\u001b[0;34m.\u001b[0m\u001b[0mas_text\u001b[0m\u001b[0;34m(\u001b[0m\u001b[0me\u001b[0m\u001b[0;34m.\u001b[0m\u001b[0mmessage\u001b[0m\u001b[0;34m)\u001b[0m\u001b[0;34m\u001b[0m\u001b[0m\n",
      "\u001b[0;32m~/anaconda3/lib/python3.6/site-packages/tensorflow/python/client/session.py\u001b[0m in \u001b[0;36m_run_fn\u001b[0;34m(session, feed_dict, fetch_list, target_list, options, run_metadata)\u001b[0m\n\u001b[1;32m   1338\u001b[0m         \u001b[0;32melse\u001b[0m\u001b[0;34m:\u001b[0m\u001b[0;34m\u001b[0m\u001b[0m\n\u001b[1;32m   1339\u001b[0m           return tf_session.TF_Run(session, options, feed_dict, fetch_list,\n\u001b[0;32m-> 1340\u001b[0;31m                                    target_list, status, run_metadata)\n\u001b[0m\u001b[1;32m   1341\u001b[0m \u001b[0;34m\u001b[0m\u001b[0m\n\u001b[1;32m   1342\u001b[0m     \u001b[0;32mdef\u001b[0m \u001b[0m_prun_fn\u001b[0m\u001b[0;34m(\u001b[0m\u001b[0msession\u001b[0m\u001b[0;34m,\u001b[0m \u001b[0mhandle\u001b[0m\u001b[0;34m,\u001b[0m \u001b[0mfeed_dict\u001b[0m\u001b[0;34m,\u001b[0m \u001b[0mfetch_list\u001b[0m\u001b[0;34m)\u001b[0m\u001b[0;34m:\u001b[0m\u001b[0;34m\u001b[0m\u001b[0m\n",
      "\u001b[0;31mKeyboardInterrupt\u001b[0m: "
     ]
    }
   ],
   "source": [
    "ConvolutionalNeuralNetwork().train()"
   ]
  },
  {
   "cell_type": "code",
   "execution_count": null,
   "metadata": {},
   "outputs": [],
   "source": []
  }
 ],
 "metadata": {
  "kernelspec": {
   "display_name": "Python 3",
   "language": "python",
   "name": "python3"
  },
  "language_info": {
   "codemirror_mode": {
    "name": "ipython",
    "version": 3
   },
   "file_extension": ".py",
   "mimetype": "text/x-python",
   "name": "python",
   "nbconvert_exporter": "python",
   "pygments_lexer": "ipython3",
   "version": "3.6.3"
  }
 },
 "nbformat": 4,
 "nbformat_minor": 2
}
